{
 "cells": [
  {
   "cell_type": "markdown",
   "id": "9a4c3272-08ff-4153-813e-5667be000017",
   "metadata": {},
   "source": [
    "## How to create multidimensional array"
   ]
  },
  {
   "cell_type": "code",
   "execution_count": 1,
   "id": "a12e8f16-c6ce-49c1-aba8-7c6bac322050",
   "metadata": {},
   "outputs": [],
   "source": [
    "import numpy as np"
   ]
  },
  {
   "cell_type": "code",
   "execution_count": 2,
   "id": "841ffcfe-2e06-48c2-8558-49971a7f2146",
   "metadata": {},
   "outputs": [
    {
     "name": "stdout",
     "output_type": "stream",
     "text": [
      "[1 2 3 4]\n",
      "1\n"
     ]
    }
   ],
   "source": [
    "# 1-D Array : []\n",
    "arr1 = np.array([1,2,3,4])\n",
    "print(arr1)\n",
    "print(arr1.ndim) # ndim function gives the dimensions of array"
   ]
  },
  {
   "cell_type": "code",
   "execution_count": 3,
   "id": "e14726a8-3654-40cf-a6d8-041e7d5c2504",
   "metadata": {},
   "outputs": [
    {
     "name": "stdout",
     "output_type": "stream",
     "text": [
      "[[1 2 3 4]\n",
      " [5 6 7 8]]\n",
      "2\n"
     ]
    }
   ],
   "source": [
    "# 2-D Array : [[]]\n",
    "arr2 = np.array([[1,2,3,4], [5,6,7,8]])\n",
    "print(arr2)\n",
    "print(arr2.ndim)"
   ]
  },
  {
   "cell_type": "code",
   "execution_count": 4,
   "id": "d176a66f-d63e-481a-9791-515ce0cf3c87",
   "metadata": {},
   "outputs": [
    {
     "name": "stdout",
     "output_type": "stream",
     "text": [
      "[[[1 2 3 4]\n",
      "  [5 6 7 8]]]\n",
      "3\n"
     ]
    }
   ],
   "source": [
    "# 3-D Array : [[[]]]\n",
    "arr3 = np.array([[[1,2,3,4], [5,6,7,8]]])\n",
    "print(arr3)\n",
    "print(arr3.ndim)"
   ]
  },
  {
   "cell_type": "markdown",
   "id": "be12ebdb-b96a-4c4f-af36-5da74c9b483c",
   "metadata": {},
   "source": [
    "**ndmin function**"
   ]
  },
  {
   "cell_type": "code",
   "execution_count": 5,
   "id": "29d5398c-907e-4b7e-853f-a9191c139acf",
   "metadata": {},
   "outputs": [
    {
     "name": "stdout",
     "output_type": "stream",
     "text": [
      "[[[[[[[[[[1 2 3 4]]]]]]]]]]\n",
      "10\n"
     ]
    }
   ],
   "source": [
    "# ndmin function : It creates the array of n dimensions, without need of putting n brackets\n",
    "arrN = np.array([1, 2, 3, 4], ndmin = 10)\n",
    "print(arrN)\n",
    "print(arrN.ndim) # ndim function will print the array's dimension"
   ]
  }
 ],
 "metadata": {
  "kernelspec": {
   "display_name": "Python 3 (ipykernel)",
   "language": "python",
   "name": "python3"
  },
  "language_info": {
   "codemirror_mode": {
    "name": "ipython",
    "version": 3
   },
   "file_extension": ".py",
   "mimetype": "text/x-python",
   "name": "python",
   "nbconvert_exporter": "python",
   "pygments_lexer": "ipython3",
   "version": "3.13.4"
  }
 },
 "nbformat": 4,
 "nbformat_minor": 5
}
