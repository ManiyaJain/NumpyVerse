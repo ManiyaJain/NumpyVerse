{
 "cells": [
  {
   "cell_type": "markdown",
   "id": "af9df8dc-fa25-4702-ac88-f1f945dd76bb",
   "metadata": {},
   "source": [
    "**Splitting breaks one array into multiple**"
   ]
  },
  {
   "cell_type": "code",
   "execution_count": 1,
   "id": "99354450-a2b2-4e04-81ac-3e16a1300694",
   "metadata": {},
   "outputs": [],
   "source": [
    "import numpy as np"
   ]
  },
  {
   "cell_type": "code",
   "execution_count": 2,
   "id": "b7597f2c-c013-44ae-bd96-5eaab3c6166c",
   "metadata": {},
   "outputs": [
    {
     "name": "stdout",
     "output_type": "stream",
     "text": [
      "Original array : [1 2 3 4 5 6]\n",
      "\n",
      "Splitted array : [array([1, 2]), array([3, 4]), array([5, 6])]\n",
      "<class 'list'> \n",
      "\n",
      "Array at 0th index : [1 2]\n"
     ]
    }
   ],
   "source": [
    "# 1-D Array\n",
    "arr = np.array([1,2,3,4,5,6])\n",
    "print(\"Original array :\",arr)\n",
    "print()\n",
    "\n",
    "arr_split = np.array_split(arr, 3)\n",
    "print(\"Splitted array :\",arr_split)\n",
    "print(type(arr_split),\"\\n\")\n",
    "\n",
    "print(\"Array at 0th index :\",arr_split[0])"
   ]
  },
  {
   "cell_type": "code",
   "execution_count": 3,
   "id": "0d52990e-5df6-40a3-9825-2e3170e8c687",
   "metadata": {},
   "outputs": [
    {
     "name": "stdout",
     "output_type": "stream",
     "text": [
      "Original Array\n",
      " [[1 4 6]\n",
      " [2 0 5]\n",
      " [3 7 2]] \n",
      "\n",
      "Splitted Array in 3\n",
      " [array([[1, 4, 6]]), array([[2, 0, 5]]), array([[3, 7, 2]])] \n",
      "\n",
      "Splitted Array in 4\n",
      " [array([[1, 4, 6]]), array([[2, 0, 5]]), array([[3, 7, 2]]), array([], shape=(0, 3), dtype=int64)] \n",
      "\n",
      "[array([[1],\n",
      "       [2],\n",
      "       [3]]), array([[4],\n",
      "       [0],\n",
      "       [7]]), array([[6],\n",
      "       [5],\n",
      "       [2]])] \n",
      "\n",
      "[array([[1, 4, 6]]), array([[2, 0, 5]]), array([[3, 7, 2]])]\n"
     ]
    }
   ],
   "source": [
    "# 2-D Array\n",
    "arr1 = np.array([[1,4,6], [2,0,5], [3,7,2]])\n",
    "print(\"Original Array\\n\",arr1,\"\\n\")\n",
    "\n",
    "arr1_split1 = np.array_split(arr1, 3)\n",
    "print(\"Splitted Array in 3\\n\",arr1_split1,\"\\n\")\n",
    "\n",
    "arr1_split2 = np.array_split(arr1, 4)\n",
    "print(\"Splitted Array in 4\\n\",arr1_split2,\"\\n\")\n",
    "\n",
    "arr1_split3 = np.array_split(arr1, 3, axis = 1)\n",
    "print(arr1_split3,\"\\n\")\n",
    "\n",
    "arr1_split4 = np.array_split(arr1, 3, axis = 0)\n",
    "print(arr1_split4)\n"
   ]
  }
 ],
 "metadata": {
  "kernelspec": {
   "display_name": "Python 3 (ipykernel)",
   "language": "python",
   "name": "python3"
  },
  "language_info": {
   "codemirror_mode": {
    "name": "ipython",
    "version": 3
   },
   "file_extension": ".py",
   "mimetype": "text/x-python",
   "name": "python",
   "nbconvert_exporter": "python",
   "pygments_lexer": "ipython3",
   "version": "3.13.4"
  }
 },
 "nbformat": 4,
 "nbformat_minor": 5
}
