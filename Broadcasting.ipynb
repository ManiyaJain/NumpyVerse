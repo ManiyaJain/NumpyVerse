{
 "cells": [
  {
   "cell_type": "code",
   "execution_count": 1,
   "id": "d201f43e-6a05-4ba3-8e9e-5c5022fd4f43",
   "metadata": {},
   "outputs": [],
   "source": [
    "import numpy as np"
   ]
  },
  {
   "cell_type": "code",
   "execution_count": 11,
   "id": "7837c8d0-382e-422d-be80-0124b6aeee75",
   "metadata": {},
   "outputs": [
    {
     "name": "stdout",
     "output_type": "stream",
     "text": [
      "(3,)\n",
      "\n",
      "[1 2 3]\n",
      "\n",
      "(3, 1)\n",
      "\n",
      "[[1]\n",
      " [2]\n",
      " [3]]\n",
      "\n",
      "Addition of arr1 and arr2 : [[2 3 4]\n",
      " [3 4 5]\n",
      " [4 5 6]]\n"
     ]
    }
   ],
   "source": [
    "arr1 = np.array([1,2,3])\n",
    "print(arr1.shape)\n",
    "print()\n",
    "print(arr1)\n",
    "print()\n",
    "\n",
    "arr2 = np.array([[1], [2], [3]])\n",
    "print(arr2.shape)\n",
    "print()\n",
    "print(arr2)\n",
    "print()\n",
    "\n",
    "print(\"Addition of arr1 and arr2 :\",arr1 + arr2)\n"
   ]
  },
  {
   "cell_type": "code",
   "execution_count": 14,
   "id": "bc5ba5f7-21cf-47df-9a9a-951b1b317d6a",
   "metadata": {},
   "outputs": [
    {
     "name": "stdout",
     "output_type": "stream",
     "text": [
      "(2, 1)\n",
      "(2, 3)\n",
      "\n",
      "[[2 3 4]\n",
      " [3 4 5]]\n"
     ]
    }
   ],
   "source": [
    "x = np.array([[1], [2]])\n",
    "print(x.shape)\n",
    "\n",
    "y = np.array([[1,2,3], [1,2,3]])\n",
    "print(y.shape)\n",
    "print()\n",
    "print(x+y)"
   ]
  },
  {
   "cell_type": "code",
   "execution_count": null,
   "id": "61a59e29-0288-4efd-9954-079bfd391909",
   "metadata": {},
   "outputs": [],
   "source": []
  }
 ],
 "metadata": {
  "kernelspec": {
   "display_name": "Python 3 (ipykernel)",
   "language": "python",
   "name": "python3"
  },
  "language_info": {
   "codemirror_mode": {
    "name": "ipython",
    "version": 3
   },
   "file_extension": ".py",
   "mimetype": "text/x-python",
   "name": "python",
   "nbconvert_exporter": "python",
   "pygments_lexer": "ipython3",
   "version": "3.13.4"
  }
 },
 "nbformat": 4,
 "nbformat_minor": 5
}
