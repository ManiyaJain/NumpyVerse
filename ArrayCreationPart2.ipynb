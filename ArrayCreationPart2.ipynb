{
 "cells": [
  {
   "cell_type": "markdown",
   "id": "5179fd42-e165-43bf-9aaf-bd9de7b40f6a",
   "metadata": {},
   "source": [
    "# Array Creation : Intrinsic numpy array creation objects"
   ]
  },
  {
   "cell_type": "code",
   "execution_count": 1,
   "id": "b7f05139-e622-4847-8d6d-46d57b760fb5",
   "metadata": {},
   "outputs": [],
   "source": [
    "import numpy as np"
   ]
  },
  {
   "cell_type": "code",
   "execution_count": 2,
   "id": "ced22c0c-027a-4b55-adf2-38f420be822c",
   "metadata": {},
   "outputs": [],
   "source": [
    "# zeros : \n",
    "zeros = np.zeros((2,5)) # It will give an array of zeros of size (2,5)"
   ]
  },
  {
   "cell_type": "code",
   "execution_count": 3,
   "id": "84350e1c-5fa9-42ec-849b-8df5aa2baada",
   "metadata": {},
   "outputs": [
    {
     "data": {
      "text/plain": [
       "array([[0., 0., 0., 0., 0.],\n",
       "       [0., 0., 0., 0., 0.]])"
      ]
     },
     "execution_count": 3,
     "metadata": {},
     "output_type": "execute_result"
    }
   ],
   "source": [
    "zeros"
   ]
  },
  {
   "cell_type": "code",
   "execution_count": 4,
   "id": "c04e0077-93dc-4cf4-94f2-e4527e6ec102",
   "metadata": {},
   "outputs": [
    {
     "data": {
      "text/plain": [
       "dtype('float64')"
      ]
     },
     "execution_count": 4,
     "metadata": {},
     "output_type": "execute_result"
    }
   ],
   "source": [
    "zeros.dtype"
   ]
  },
  {
   "cell_type": "code",
   "execution_count": 5,
   "id": "7010b449-8e3b-4d45-9ee2-a4e723d0305b",
   "metadata": {},
   "outputs": [
    {
     "data": {
      "text/plain": [
       "(2, 5)"
      ]
     },
     "execution_count": 5,
     "metadata": {},
     "output_type": "execute_result"
    }
   ],
   "source": [
    "zeros.shape"
   ]
  },
  {
   "cell_type": "code",
   "execution_count": 6,
   "id": "3fff1550-197c-4365-86a8-a132a871a2d6",
   "metadata": {},
   "outputs": [
    {
     "data": {
      "text/plain": [
       "10"
      ]
     },
     "execution_count": 6,
     "metadata": {},
     "output_type": "execute_result"
    }
   ],
   "source": [
    "zeros.size"
   ]
  },
  {
   "cell_type": "code",
   "execution_count": 7,
   "id": "307e2aeb-8ced-4543-8612-b5a415631653",
   "metadata": {},
   "outputs": [],
   "source": [
    "# arange :\n",
    "rng = np.arange(15)"
   ]
  },
  {
   "cell_type": "code",
   "execution_count": 8,
   "id": "6e7e7460-5a3c-4cb2-9c18-89194054e8d2",
   "metadata": {},
   "outputs": [
    {
     "data": {
      "text/plain": [
       "array([ 0,  1,  2,  3,  4,  5,  6,  7,  8,  9, 10, 11, 12, 13, 14])"
      ]
     },
     "execution_count": 8,
     "metadata": {},
     "output_type": "execute_result"
    }
   ],
   "source": [
    "rng"
   ]
  },
  {
   "cell_type": "code",
   "execution_count": 9,
   "id": "60127dcd-b726-4551-a3b2-fdc113cb61ea",
   "metadata": {},
   "outputs": [],
   "source": [
    "# linspace :\n",
    "lspace = np.linspace(1,5,12) # It will give 12 elements from 1 to 5 with equal spacing"
   ]
  },
  {
   "cell_type": "code",
   "execution_count": 10,
   "id": "1e1097d0-b6d2-4adb-9aff-8440b666853d",
   "metadata": {},
   "outputs": [
    {
     "data": {
      "text/plain": [
       "array([1.        , 1.36363636, 1.72727273, 2.09090909, 2.45454545,\n",
       "       2.81818182, 3.18181818, 3.54545455, 3.90909091, 4.27272727,\n",
       "       4.63636364, 5.        ])"
      ]
     },
     "execution_count": 10,
     "metadata": {},
     "output_type": "execute_result"
    }
   ],
   "source": [
    "lspace"
   ]
  },
  {
   "cell_type": "code",
   "execution_count": 11,
   "id": "d24a5eef-9cc1-4946-ae12-af317b58322c",
   "metadata": {},
   "outputs": [],
   "source": [
    "lspace1 = np.linspace(1,4,4) #  It will give 4 elements from 1 to 4 with equal spacing"
   ]
  },
  {
   "cell_type": "code",
   "execution_count": 12,
   "id": "c13ad698-fcf7-457c-8d6d-594a8489331e",
   "metadata": {},
   "outputs": [
    {
     "data": {
      "text/plain": [
       "array([1., 2., 3., 4.])"
      ]
     },
     "execution_count": 12,
     "metadata": {},
     "output_type": "execute_result"
    }
   ],
   "source": [
    "lspace1"
   ]
  },
  {
   "cell_type": "code",
   "execution_count": 13,
   "id": "1a409a0a-fb22-4e6a-954c-d39a8f4fb763",
   "metadata": {},
   "outputs": [],
   "source": [
    "# empty :\n",
    "emp = np.empty((4,6)) # It gives random elements"
   ]
  },
  {
   "cell_type": "code",
   "execution_count": 14,
   "id": "edcb9139-1c2d-4e6b-b058-548a232b670b",
   "metadata": {},
   "outputs": [
    {
     "data": {
      "text/plain": [
       "array([[6.23042070e-307, 4.67296746e-307, 1.69121096e-306,\n",
       "        1.33511018e-306, 4.45055939e-308, 1.33511562e-306],\n",
       "       [1.42419938e-306, 7.56603881e-307, 8.45603440e-307,\n",
       "        3.56043054e-307, 1.60219306e-306, 6.23059726e-307],\n",
       "       [1.06811422e-306, 3.56043054e-307, 1.37961641e-306,\n",
       "        1.05695167e-307, 8.01097889e-307, 1.78020169e-306],\n",
       "       [7.56601165e-307, 1.02359984e-306, 1.33510679e-306,\n",
       "        2.22522597e-306, 8.01097889e-307, 5.11766988e-307]])"
      ]
     },
     "execution_count": 14,
     "metadata": {},
     "output_type": "execute_result"
    }
   ],
   "source": [
    "emp"
   ]
  },
  {
   "cell_type": "code",
   "execution_count": 15,
   "id": "f64d4132-1fe2-4ff7-8964-0b2b2e1832fd",
   "metadata": {},
   "outputs": [],
   "source": [
    "# empty_like :\n",
    "emp_like = np.empty_like(lspace1)"
   ]
  },
  {
   "cell_type": "code",
   "execution_count": 16,
   "id": "dda23c7c-8783-4268-89bb-fc58b31a10fa",
   "metadata": {},
   "outputs": [
    {
     "data": {
      "text/plain": [
       "array([1., 2., 3., 4.])"
      ]
     },
     "execution_count": 16,
     "metadata": {},
     "output_type": "execute_result"
    }
   ],
   "source": [
    "emp_like"
   ]
  },
  {
   "cell_type": "code",
   "execution_count": 17,
   "id": "95859abd-643e-4de1-92d8-9fda4df2dea4",
   "metadata": {},
   "outputs": [],
   "source": [
    "#  identity :\n",
    "ide = np.identity(45) # It will give an identity matrix of 45 * 45"
   ]
  },
  {
   "cell_type": "code",
   "execution_count": 18,
   "id": "a42d29e2-827c-48d3-8f22-80923b86c841",
   "metadata": {},
   "outputs": [
    {
     "data": {
      "text/plain": [
       "array([[1., 0., 0., ..., 0., 0., 0.],\n",
       "       [0., 1., 0., ..., 0., 0., 0.],\n",
       "       [0., 0., 1., ..., 0., 0., 0.],\n",
       "       ...,\n",
       "       [0., 0., 0., ..., 1., 0., 0.],\n",
       "       [0., 0., 0., ..., 0., 1., 0.],\n",
       "       [0., 0., 0., ..., 0., 0., 1.]], shape=(45, 45))"
      ]
     },
     "execution_count": 18,
     "metadata": {},
     "output_type": "execute_result"
    }
   ],
   "source": [
    "ide"
   ]
  },
  {
   "cell_type": "code",
   "execution_count": 19,
   "id": "ab8d02d4-b115-4f45-aa7d-cce315a6c1b6",
   "metadata": {},
   "outputs": [
    {
     "data": {
      "text/plain": [
       "(45, 45)"
      ]
     },
     "execution_count": 19,
     "metadata": {},
     "output_type": "execute_result"
    }
   ],
   "source": [
    "ide.shape"
   ]
  },
  {
   "cell_type": "code",
   "execution_count": 20,
   "id": "568a5db4-18d7-489f-a01a-cde725213605",
   "metadata": {},
   "outputs": [],
   "source": [
    "arr = np.arange(99)"
   ]
  },
  {
   "cell_type": "code",
   "execution_count": 21,
   "id": "b315b377-3ec1-4b02-a17a-2ce8a6c1ce2e",
   "metadata": {},
   "outputs": [
    {
     "data": {
      "text/plain": [
       "array([ 0,  1,  2,  3,  4,  5,  6,  7,  8,  9, 10, 11, 12, 13, 14, 15, 16,\n",
       "       17, 18, 19, 20, 21, 22, 23, 24, 25, 26, 27, 28, 29, 30, 31, 32, 33,\n",
       "       34, 35, 36, 37, 38, 39, 40, 41, 42, 43, 44, 45, 46, 47, 48, 49, 50,\n",
       "       51, 52, 53, 54, 55, 56, 57, 58, 59, 60, 61, 62, 63, 64, 65, 66, 67,\n",
       "       68, 69, 70, 71, 72, 73, 74, 75, 76, 77, 78, 79, 80, 81, 82, 83, 84,\n",
       "       85, 86, 87, 88, 89, 90, 91, 92, 93, 94, 95, 96, 97, 98])"
      ]
     },
     "execution_count": 21,
     "metadata": {},
     "output_type": "execute_result"
    }
   ],
   "source": [
    "arr"
   ]
  },
  {
   "cell_type": "code",
   "execution_count": 22,
   "id": "41a164ba-1a19-47cf-9e0e-e0140c7c81cc",
   "metadata": {},
   "outputs": [
    {
     "data": {
      "text/plain": [
       "array([[ 0,  1,  2,  3,  4,  5,  6,  7,  8,  9, 10, 11, 12, 13, 14, 15,\n",
       "        16, 17, 18, 19, 20, 21, 22, 23, 24, 25, 26, 27, 28, 29, 30, 31,\n",
       "        32],\n",
       "       [33, 34, 35, 36, 37, 38, 39, 40, 41, 42, 43, 44, 45, 46, 47, 48,\n",
       "        49, 50, 51, 52, 53, 54, 55, 56, 57, 58, 59, 60, 61, 62, 63, 64,\n",
       "        65],\n",
       "       [66, 67, 68, 69, 70, 71, 72, 73, 74, 75, 76, 77, 78, 79, 80, 81,\n",
       "        82, 83, 84, 85, 86, 87, 88, 89, 90, 91, 92, 93, 94, 95, 96, 97,\n",
       "        98]])"
      ]
     },
     "execution_count": 22,
     "metadata": {},
     "output_type": "execute_result"
    }
   ],
   "source": [
    "# reshape :\n",
    "arr.reshape(3, 33) # Reshape the array into 3 * 33"
   ]
  },
  {
   "cell_type": "code",
   "execution_count": 23,
   "id": "e7fc655d-0c02-46e6-8917-3931f5de0a2d",
   "metadata": {},
   "outputs": [],
   "source": [
    "# arr = reshape(3, 31), it will give error because 3*33 will contain 93 elements but we have 99 elements in our array named arr"
   ]
  },
  {
   "cell_type": "code",
   "execution_count": 24,
   "id": "a15b7618-0b5f-4bef-8a0a-6d959f04af51",
   "metadata": {},
   "outputs": [
    {
     "data": {
      "text/plain": [
       "array([ 0,  1,  2,  3,  4,  5,  6,  7,  8,  9, 10, 11, 12, 13, 14, 15, 16,\n",
       "       17, 18, 19, 20, 21, 22, 23, 24, 25, 26, 27, 28, 29, 30, 31, 32, 33,\n",
       "       34, 35, 36, 37, 38, 39, 40, 41, 42, 43, 44, 45, 46, 47, 48, 49, 50,\n",
       "       51, 52, 53, 54, 55, 56, 57, 58, 59, 60, 61, 62, 63, 64, 65, 66, 67,\n",
       "       68, 69, 70, 71, 72, 73, 74, 75, 76, 77, 78, 79, 80, 81, 82, 83, 84,\n",
       "       85, 86, 87, 88, 89, 90, 91, 92, 93, 94, 95, 96, 97, 98])"
      ]
     },
     "execution_count": 24,
     "metadata": {},
     "output_type": "execute_result"
    }
   ],
   "source": [
    "arr # not changed"
   ]
  },
  {
   "cell_type": "code",
   "execution_count": 25,
   "id": "3b5a0fa2-0013-489e-8602-b21370692736",
   "metadata": {},
   "outputs": [],
   "source": [
    "arr = arr.reshape(3,33) # Now it will change"
   ]
  },
  {
   "cell_type": "code",
   "execution_count": 26,
   "id": "714625f0-52fb-4127-b23d-55ab773661ec",
   "metadata": {},
   "outputs": [
    {
     "data": {
      "text/plain": [
       "array([[ 0,  1,  2,  3,  4,  5,  6,  7,  8,  9, 10, 11, 12, 13, 14, 15,\n",
       "        16, 17, 18, 19, 20, 21, 22, 23, 24, 25, 26, 27, 28, 29, 30, 31,\n",
       "        32],\n",
       "       [33, 34, 35, 36, 37, 38, 39, 40, 41, 42, 43, 44, 45, 46, 47, 48,\n",
       "        49, 50, 51, 52, 53, 54, 55, 56, 57, 58, 59, 60, 61, 62, 63, 64,\n",
       "        65],\n",
       "       [66, 67, 68, 69, 70, 71, 72, 73, 74, 75, 76, 77, 78, 79, 80, 81,\n",
       "        82, 83, 84, 85, 86, 87, 88, 89, 90, 91, 92, 93, 94, 95, 96, 97,\n",
       "        98]])"
      ]
     },
     "execution_count": 26,
     "metadata": {},
     "output_type": "execute_result"
    }
   ],
   "source": [
    "arr"
   ]
  },
  {
   "cell_type": "code",
   "execution_count": 27,
   "id": "ed8e3d1d-9ff5-40f9-ab47-4ef1fd8634a7",
   "metadata": {},
   "outputs": [],
   "source": [
    "# ravel : \n",
    "arr = arr.ravel() # It will convert to 1-D array"
   ]
  },
  {
   "cell_type": "code",
   "execution_count": 28,
   "id": "66e32439-ed1e-43bc-b4bd-51703ebe7e47",
   "metadata": {},
   "outputs": [
    {
     "data": {
      "text/plain": [
       "array([ 0,  1,  2,  3,  4,  5,  6,  7,  8,  9, 10, 11, 12, 13, 14, 15, 16,\n",
       "       17, 18, 19, 20, 21, 22, 23, 24, 25, 26, 27, 28, 29, 30, 31, 32, 33,\n",
       "       34, 35, 36, 37, 38, 39, 40, 41, 42, 43, 44, 45, 46, 47, 48, 49, 50,\n",
       "       51, 52, 53, 54, 55, 56, 57, 58, 59, 60, 61, 62, 63, 64, 65, 66, 67,\n",
       "       68, 69, 70, 71, 72, 73, 74, 75, 76, 77, 78, 79, 80, 81, 82, 83, 84,\n",
       "       85, 86, 87, 88, 89, 90, 91, 92, 93, 94, 95, 96, 97, 98])"
      ]
     },
     "execution_count": 28,
     "metadata": {},
     "output_type": "execute_result"
    }
   ],
   "source": [
    "arr"
   ]
  },
  {
   "cell_type": "code",
   "execution_count": 29,
   "id": "0846045a-1a73-46ab-9749-1ba80d45b693",
   "metadata": {},
   "outputs": [
    {
     "data": {
      "text/plain": [
       "(99,)"
      ]
     },
     "execution_count": 29,
     "metadata": {},
     "output_type": "execute_result"
    }
   ],
   "source": [
    "arr.shape # It will now give the size of 1-D array"
   ]
  }
 ],
 "metadata": {
  "kernelspec": {
   "display_name": "Python 3 (ipykernel)",
   "language": "python",
   "name": "python3"
  },
  "language_info": {
   "codemirror_mode": {
    "name": "ipython",
    "version": 3
   },
   "file_extension": ".py",
   "mimetype": "text/x-python",
   "name": "python",
   "nbconvert_exporter": "python",
   "pygments_lexer": "ipython3",
   "version": "3.13.4"
  }
 },
 "nbformat": 4,
 "nbformat_minor": 5
}
