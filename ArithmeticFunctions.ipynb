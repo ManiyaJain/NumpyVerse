{
 "cells": [
  {
   "cell_type": "markdown",
   "id": "b6fcac83-760d-445b-a9ee-64ffb58ce4ba",
   "metadata": {},
   "source": [
    "## Arithmetic functions in numpy"
   ]
  },
  {
   "cell_type": "code",
   "execution_count": 1,
   "id": "541bc6fd-4848-446e-9e47-8233d81a2695",
   "metadata": {},
   "outputs": [],
   "source": [
    "import numpy as np"
   ]
  },
  {
   "cell_type": "code",
   "execution_count": 2,
   "id": "05424459-7a3e-40cc-9f01-ba48680ac566",
   "metadata": {},
   "outputs": [
    {
     "name": "stdout",
     "output_type": "stream",
     "text": [
      "Minimum : 1\n",
      "Maximum : 9\n"
     ]
    }
   ],
   "source": [
    "arr = np.array([3,6,8,9,1,4])\n",
    "\n",
    "#np.min() - to find the minimum element\n",
    "print(\"Minimum :\",np.min(arr))\n",
    "\n",
    "#np.max() - to find the maximum element\n",
    "print(\"Maximum :\", np.max(arr))"
   ]
  },
  {
   "cell_type": "code",
   "execution_count": 3,
   "id": "9aa0fcaf-bbac-49cb-b8bf-e45343769f9b",
   "metadata": {},
   "outputs": [
    {
     "name": "stdout",
     "output_type": "stream",
     "text": [
      "Position of minimum : 4\n",
      "Position of maximum : 3\n"
     ]
    }
   ],
   "source": [
    "arr = np.array([3,6,8,9,1,4])\n",
    "\n",
    "#np.argmin() - to find the position of minimum element\n",
    "print(\"Position of minimum :\", np.argmin(arr))\n",
    "\n",
    "#np.argmax() - to find the positon of maximum element\n",
    "print(\"Position of maximum :\",np.argmax(arr))"
   ]
  },
  {
   "cell_type": "code",
   "execution_count": 4,
   "id": "fcf952d5-1040-4d5d-9a62-9c8b06339526",
   "metadata": {},
   "outputs": [
    {
     "name": "stdout",
     "output_type": "stream",
     "text": [
      "[1 5]\n"
     ]
    }
   ],
   "source": [
    "arr1 = np.array([[2,1,3], [9,5,6]])\n",
    "print(np.min(arr1, axis=1))"
   ]
  },
  {
   "cell_type": "code",
   "execution_count": 5,
   "id": "a797449a-0df8-4e10-8a14-6865ae42d762",
   "metadata": {},
   "outputs": [
    {
     "name": "stdout",
     "output_type": "stream",
     "text": [
      "[2 1 3]\n"
     ]
    }
   ],
   "source": [
    "arr1 = np.array([[2,1,3], [9,5,6]])\n",
    "print(np.min(arr1, axis=0))"
   ]
  },
  {
   "cell_type": "code",
   "execution_count": 6,
   "id": "f4baf2e2-a20c-435a-afb0-cfd54785c71c",
   "metadata": {},
   "outputs": [
    {
     "name": "stdout",
     "output_type": "stream",
     "text": [
      "[ 1.41421356  3.         12.          1.          2.64575131]\n"
     ]
    }
   ],
   "source": [
    "arr2 = np.array([2,9,144,1,7])\n",
    "\n",
    "#np.sqrt() - to find the square root of the elements in an array\n",
    "print(np.sqrt(arr2))"
   ]
  },
  {
   "cell_type": "code",
   "execution_count": 7,
   "id": "4a8d7ae3-9b1f-41e5-b11e-28cd3795a779",
   "metadata": {},
   "outputs": [
    {
     "name": "stdout",
     "output_type": "stream",
     "text": [
      "[0.84147098 0.90929743 0.14112001]\n",
      "[ 0.54030231 -0.41614684 -0.9899925 ]\n"
     ]
    }
   ],
   "source": [
    "arr3 = np.array([1,2,3])\n",
    "\n",
    "#np.sin() - to find the sin value\n",
    "print(np.sin(arr3))\n",
    "\n",
    "#np.cos() - to find the cos value\n",
    "print(np.cos(arr3))"
   ]
  },
  {
   "cell_type": "code",
   "execution_count": 8,
   "id": "10555d92-9e18-4da2-935b-f1dccb247a09",
   "metadata": {},
   "outputs": [
    {
     "name": "stdout",
     "output_type": "stream",
     "text": [
      "[ 4 10 17]\n"
     ]
    }
   ],
   "source": [
    "arr4 = np.array([4,6,7])\n",
    "\n",
    "#np.cumsum() - calculates the cumulative sum of elements in an array\n",
    "print(np.cumsum(arr4))"
   ]
  }
 ],
 "metadata": {
  "kernelspec": {
   "display_name": "Python 3 (ipykernel)",
   "language": "python",
   "name": "python3"
  },
  "language_info": {
   "codemirror_mode": {
    "name": "ipython",
    "version": 3
   },
   "file_extension": ".py",
   "mimetype": "text/x-python",
   "name": "python",
   "nbconvert_exporter": "python",
   "pygments_lexer": "ipython3",
   "version": "3.13.4"
  }
 },
 "nbformat": 4,
 "nbformat_minor": 5
}
