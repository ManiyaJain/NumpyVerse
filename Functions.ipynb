{
 "cells": [
  {
   "cell_type": "code",
   "execution_count": 1,
   "id": "8f99087f-4eec-449d-b142-89688bd4fc1d",
   "metadata": {},
   "outputs": [],
   "source": [
    "import numpy as np"
   ]
  },
  {
   "cell_type": "markdown",
   "id": "95358fec-ad4b-4559-a82a-42d2eee62090",
   "metadata": {},
   "source": [
    "**where() - finds the position(s) of elments in an array**"
   ]
  },
  {
   "cell_type": "code",
   "execution_count": 2,
   "id": "2084f83b-daf4-49fd-acf3-1f77a327a0d2",
   "metadata": {},
   "outputs": [
    {
     "name": "stdout",
     "output_type": "stream",
     "text": [
      "(array([1, 5]),)\n",
      "(array([1, 3, 5, 7]),)\n"
     ]
    }
   ],
   "source": [
    "arr = np.array([1,2,3,4,5,2,5,6,7])\n",
    "\n",
    "x = np.where(arr == 2)\n",
    "print(x)\n",
    "\n",
    "y = np.where((arr%2) == 0)\n",
    "print(y)"
   ]
  },
  {
   "cell_type": "markdown",
   "id": "61c49e1e-f12c-4013-a6a2-2331c1b7cd8f",
   "metadata": {},
   "source": [
    "**searchsorted() - returns the indexx where the specified value would be inserted to maintain the search order**"
   ]
  },
  {
   "cell_type": "code",
   "execution_count": 3,
   "id": "47a8eca8-d06a-48c0-b8e5-cbe8125ac14a",
   "metadata": {},
   "outputs": [
    {
     "name": "stdout",
     "output_type": "stream",
     "text": [
      "2\n",
      "[2 5 8]\n",
      "[7 8 8]\n"
     ]
    }
   ],
   "source": [
    "arr = np.array([1,2,7,4,5,9,2,6])\n",
    "\n",
    "x = np.searchsorted(arr, 4)\n",
    "print(x)\n",
    "\n",
    "x1 = np.searchsorted(arr, [5,6,7],  side = \"left\")\n",
    "print(x1)\n",
    "\n",
    "x2 = np.searchsorted(arr, [5,6,7],  side = \"right\")\n",
    "print(x2)"
   ]
  },
  {
   "cell_type": "markdown",
   "id": "07194df1-9adb-47c6-9ee1-deca65018c89",
   "metadata": {},
   "source": [
    "**sort() - returns the sorted array**"
   ]
  },
  {
   "cell_type": "code",
   "execution_count": 4,
   "id": "517628f6-ea2d-4f42-9451-d83f139e0621",
   "metadata": {},
   "outputs": [
    {
     "name": "stdout",
     "output_type": "stream",
     "text": [
      "[ 0  1  6  8 12 24 32]\n"
     ]
    }
   ],
   "source": [
    "# 1-D Array\n",
    "arr1 = np.array([24,6,12,0,8,1,32])\n",
    "print(np.sort(arr1))"
   ]
  },
  {
   "cell_type": "code",
   "execution_count": 5,
   "id": "508397aa-f6e6-4714-b410-7937519f0a8f",
   "metadata": {},
   "outputs": [
    {
     "name": "stdout",
     "output_type": "stream",
     "text": [
      "['b' 'c' 'm' 's' 'x' 'z']\n"
     ]
    }
   ],
   "source": [
    "arr2 = np.array([\"b\", \"x\", \"c\", \"s\", \"m\", \"z\"])\n",
    "print(np.sort(arr2))"
   ]
  },
  {
   "cell_type": "code",
   "execution_count": 6,
   "id": "34ea98b4-4a99-4e23-9595-5e537d1b045b",
   "metadata": {},
   "outputs": [
    {
     "name": "stdout",
     "output_type": "stream",
     "text": [
      "[[0 4 5]\n",
      " [1 3 9]\n",
      " [2 4 7]]\n"
     ]
    }
   ],
   "source": [
    "# 2-D Array\n",
    "arr3 = np.array([[5,0,4],[1,9,3],[2,7,4]])\n",
    "print(np.sort(arr3))"
   ]
  },
  {
   "cell_type": "markdown",
   "id": "5668adae-0f20-456b-8b82-a4dc4632829d",
   "metadata": {},
   "source": [
    "**filter() - getting some elements out of an existing array and creating a new array out of them**"
   ]
  },
  {
   "cell_type": "code",
   "execution_count": 7,
   "id": "eb7a1410-653a-4208-b0b7-517bd4b111f7",
   "metadata": {},
   "outputs": [
    {
     "name": "stdout",
     "output_type": "stream",
     "text": [
      "['b' 's' 'm']\n",
      "<class 'numpy.ndarray'>\n"
     ]
    }
   ],
   "source": [
    "arr4 = np.array([\"b\", \"x\", \"c\", \"s\", \"m\", \"z\"])\n",
    "f = [True,False,False,True,True,False]\n",
    "filtered_array = arr4[f]\n",
    "print(filtered_array)\n",
    "print(type(filtered_array))"
   ]
  },
  {
   "cell_type": "markdown",
   "id": "3a5eddec-7544-459f-9bc3-72acf9f688f9",
   "metadata": {},
   "source": [
    "**shuffle() - shuffle the elements randomly**"
   ]
  },
  {
   "cell_type": "code",
   "execution_count": 8,
   "id": "5d7b892c-35d5-486f-b06b-838fa5093784",
   "metadata": {},
   "outputs": [
    {
     "name": "stdout",
     "output_type": "stream",
     "text": [
      "[5 3 1 4 2]\n"
     ]
    }
   ],
   "source": [
    "arr4 = np.array([1,2,3,4,5])\n",
    "np.random.shuffle(arr4)\n",
    "print(arr4)"
   ]
  },
  {
   "cell_type": "markdown",
   "id": "8d22bddd-81c9-4976-9209-cb941888149c",
   "metadata": {},
   "source": [
    "**unique() - returns the unique elements in an array**"
   ]
  },
  {
   "cell_type": "code",
   "execution_count": 9,
   "id": "f5428a58-391f-4ed8-a9f1-8b79408b7f37",
   "metadata": {},
   "outputs": [
    {
     "name": "stdout",
     "output_type": "stream",
     "text": [
      "[1 2 3 4 5 6 7]\n"
     ]
    }
   ],
   "source": [
    "arr5 = np.array([1,2,3,4,2,5,2,5,7,6,2,7])\n",
    "x = np.unique(arr5)\n",
    "print(x)"
   ]
  },
  {
   "cell_type": "code",
   "execution_count": 10,
   "id": "14688e93-b7ff-4aea-8e56-cc5dffed542f",
   "metadata": {},
   "outputs": [
    {
     "name": "stdout",
     "output_type": "stream",
     "text": [
      "(array([1, 2, 3, 4, 5, 6, 7]), array([0, 1, 2, 3, 5, 9, 8]), array([1, 4, 1, 1, 2, 1, 2]))\n"
     ]
    }
   ],
   "source": [
    "arr5 = np.array([1,2,3,4,2,5,2,5,7,6,2,7])\n",
    "x = np.unique(arr5, return_index = True, return_counts = True)\n",
    "print(x)"
   ]
  },
  {
   "cell_type": "markdown",
   "id": "9b690847-0f4b-4bed-ba22-1759b54662e1",
   "metadata": {},
   "source": [
    "**resize() - converts 1-D array into 2-D array**"
   ]
  },
  {
   "cell_type": "code",
   "execution_count": 11,
   "id": "7bac25ee-ae23-40c7-bbb6-178f1c6532d5",
   "metadata": {},
   "outputs": [
    {
     "name": "stdout",
     "output_type": "stream",
     "text": [
      "[[1 2 3]\n",
      " [4 5 6]]\n"
     ]
    }
   ],
   "source": [
    "arr6 = np.array([1,2,3,4,5,6])\n",
    "y = np.resize(arr6,(2,3)) # 1-D into 2-D\n",
    "print(y)"
   ]
  },
  {
   "cell_type": "code",
   "execution_count": 12,
   "id": "a21a1f61-e123-477f-92c3-357ad77a7404",
   "metadata": {},
   "outputs": [
    {
     "name": "stdout",
     "output_type": "stream",
     "text": [
      "[[1 2 3]\n",
      " [4 5 6]]\n"
     ]
    }
   ],
   "source": [
    "# Flatten - 2-D into 1-D\n",
    "arr6 = np.array([1,2,3,4,5,6])\n",
    "y = np.resize(arr6,(2,3)) # 1-D into 2-D\n",
    "print(y)"
   ]
  },
  {
   "cell_type": "markdown",
   "id": "f78b353b-29ac-4d48-866e-23b73678bc34",
   "metadata": {},
   "source": [
    "**flatten() - converts 2-D array into 1-D array**"
   ]
  },
  {
   "cell_type": "code",
   "execution_count": 13,
   "id": "d515f132-b5ff-4583-860e-bf3829bf7add",
   "metadata": {},
   "outputs": [
    {
     "name": "stdout",
     "output_type": "stream",
     "text": [
      "[1 2 3 4 5 6]\n"
     ]
    }
   ],
   "source": [
    "print(y.flatten()) # 2-D into 1-D"
   ]
  },
  {
   "cell_type": "code",
   "execution_count": 14,
   "id": "9f3b9c25-56ad-4a64-bd92-7f93d13e0064",
   "metadata": {},
   "outputs": [
    {
     "name": "stdout",
     "output_type": "stream",
     "text": [
      "[1 2 3 4 5 6]\n"
     ]
    }
   ],
   "source": [
    "print(y.flatten(order = \"C\")) # 'C' means to flatten in row-major"
   ]
  },
  {
   "cell_type": "code",
   "execution_count": 15,
   "id": "4f50e96f-2449-491a-9fe3-3ecf7e482867",
   "metadata": {},
   "outputs": [
    {
     "name": "stdout",
     "output_type": "stream",
     "text": [
      "[1 4 2 5 3 6]\n"
     ]
    }
   ],
   "source": [
    "print(y.flatten(order = \"F\")) # 'F' means to flatten in column-major"
   ]
  },
  {
   "cell_type": "code",
   "execution_count": 16,
   "id": "251015eb-3148-42bb-8236-e4f9f7e97377",
   "metadata": {},
   "outputs": [
    {
     "name": "stdout",
     "output_type": "stream",
     "text": [
      "[1 2 3 4 5 6]\n"
     ]
    }
   ],
   "source": [
    "print(np.ravel(y))"
   ]
  }
 ],
 "metadata": {
  "kernelspec": {
   "display_name": "Python 3 (ipykernel)",
   "language": "python",
   "name": "python3"
  },
  "language_info": {
   "codemirror_mode": {
    "name": "ipython",
    "version": 3
   },
   "file_extension": ".py",
   "mimetype": "text/x-python",
   "name": "python",
   "nbconvert_exporter": "python",
   "pygments_lexer": "ipython3",
   "version": "3.13.4"
  }
 },
 "nbformat": 4,
 "nbformat_minor": 5
}
