{
 "cells": [
  {
   "cell_type": "markdown",
   "id": "8dc1df6f-17b4-4e33-a181-9f02229c7c50",
   "metadata": {},
   "source": [
    "## Insert"
   ]
  },
  {
   "cell_type": "code",
   "execution_count": 1,
   "id": "6f84e1ce-29df-4c5d-84a2-f427c92efa58",
   "metadata": {},
   "outputs": [],
   "source": [
    "import numpy as np"
   ]
  },
  {
   "cell_type": "code",
   "execution_count": 2,
   "id": "eec09bca-6fed-4951-8beb-d59c143054dd",
   "metadata": {},
   "outputs": [
    {
     "name": "stdout",
     "output_type": "stream",
     "text": [
      "[1 2 3 4]\n",
      "[ 1  2 18  3  4]\n",
      "[ 1  2  3 24  4 24]\n"
     ]
    }
   ],
   "source": [
    "arr = np.array([1,2,3,4])\n",
    "print(arr)\n",
    "i = np.insert(arr, 2, 18)\n",
    "print(i)\n",
    "j = np.insert(arr, (3,4), 24)\n",
    "print(j)"
   ]
  },
  {
   "cell_type": "code",
   "execution_count": 3,
   "id": "65de8ab4-a109-44a3-9ef1-540e22278cc6",
   "metadata": {},
   "outputs": [
    {
     "name": "stdout",
     "output_type": "stream",
     "text": [
      "[[1 2 3]\n",
      " [9 8 7]\n",
      " [6 6 6]] \n",
      "\n",
      "[[1 2 6 3]\n",
      " [9 8 6 7]]\n"
     ]
    }
   ],
   "source": [
    "arr1 = np.array([[1,2,3],[9,8,7]])\n",
    "r = np.insert(arr1, 2, 6, axis=0) # row-wise\n",
    "print(r,\"\\n\")\n",
    "c = np.insert(arr1, 2, 6, axis=1) #  column-wise\n",
    "print(c)"
   ]
  },
  {
   "cell_type": "code",
   "execution_count": 4,
   "id": "abea00a9-717c-4f2e-aa43-a8066517b9da",
   "metadata": {},
   "outputs": [
    {
     "name": "stdout",
     "output_type": "stream",
     "text": [
      "[[ 1  2  3]\n",
      " [24  6 18]\n",
      " [ 9  8  7]] \n",
      "\n",
      "[[1 2 3 4]\n",
      " [9 8 7 5]]\n"
     ]
    }
   ],
   "source": [
    "m = np.insert(arr1, 1, [24,6,18], axis=0)\n",
    "print(m,\"\\n\")\n",
    "n = np.insert(arr1, 3, [4,5], axis=1)\n",
    "print(n)"
   ]
  },
  {
   "cell_type": "code",
   "execution_count": 5,
   "id": "de0bdc95-0e02-46f5-9808-aa7200902323",
   "metadata": {},
   "outputs": [
    {
     "name": "stdout",
     "output_type": "stream",
     "text": [
      "[1 2 3 4]\n",
      "[1 2 3 4 6]\n"
     ]
    }
   ],
   "source": [
    "# We can also use append() function to insert elements in an array\n",
    "# But it inserts at the last position\n",
    "arr = np.array([1,2,3,4])\n",
    "print(arr)\n",
    "i = np.append(arr,6)\n",
    "print(i)"
   ]
  },
  {
   "cell_type": "code",
   "execution_count": 6,
   "id": "f1a9ccd2-c7ae-4779-9a49-b01b0123cdb2",
   "metadata": {},
   "outputs": [
    {
     "name": "stdout",
     "output_type": "stream",
     "text": [
      "[[ 1  2  3]\n",
      " [ 9  8  7]\n",
      " [24  6 18]]\n"
     ]
    }
   ],
   "source": [
    "arr1 = np.array([[1,2,3],[9,8,7]])\n",
    "m = np.append(arr1,[[24,6,18]], axis=0)\n",
    "print(m)"
   ]
  },
  {
   "cell_type": "markdown",
   "id": "a5db6b71-ef3a-4c7c-a1f5-3e46d9f5fdb9",
   "metadata": {},
   "source": [
    "## Delete"
   ]
  },
  {
   "cell_type": "code",
   "execution_count": 7,
   "id": "0e2624f5-7cf5-43f8-81ab-869e5471cae0",
   "metadata": {},
   "outputs": [
    {
     "name": "stdout",
     "output_type": "stream",
     "text": [
      "[3 5 4 0] \n",
      "\n",
      "[3 4 0]\n"
     ]
    }
   ],
   "source": [
    "# delete(arrayName, index of element which is to be deleted)\n",
    "arr2 = np.array([3,5,4,0])\n",
    "print(arr2,\"\\n\")\n",
    "d = np.delete(arr2,1)\n",
    "print(d)"
   ]
  }
 ],
 "metadata": {
  "kernelspec": {
   "display_name": "Python 3 (ipykernel)",
   "language": "python",
   "name": "python3"
  },
  "language_info": {
   "codemirror_mode": {
    "name": "ipython",
    "version": 3
   },
   "file_extension": ".py",
   "mimetype": "text/x-python",
   "name": "python",
   "nbconvert_exporter": "python",
   "pygments_lexer": "ipython3",
   "version": "3.13.4"
  }
 },
 "nbformat": 4,
 "nbformat_minor": 5
}
