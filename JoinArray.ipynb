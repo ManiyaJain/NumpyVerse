{
 "cells": [
  {
   "cell_type": "markdown",
   "id": "7f0a6ebc-0c05-4d5c-a0fd-fdb72d7d1864",
   "metadata": {},
   "source": [
    "**Joining Array means putting contents of two or more arrays in a single array**"
   ]
  },
  {
   "cell_type": "code",
   "execution_count": 1,
   "id": "df81d969-e0e1-4b93-9c6a-7762a4a45cc7",
   "metadata": {},
   "outputs": [],
   "source": [
    "import numpy as np"
   ]
  },
  {
   "cell_type": "code",
   "execution_count": 2,
   "id": "6b8bdc30-67df-434c-80be-ca948568a923",
   "metadata": {},
   "outputs": [
    {
     "name": "stdout",
     "output_type": "stream",
     "text": [
      "[1 4 3 8 2 5 4 9]\n"
     ]
    }
   ],
   "source": [
    "# For 1-D Array\n",
    "arr1 = np.array([1,4,3,8])\n",
    "arr2 = np.array([2,5,4,9])\n",
    "\n",
    "arr = np.concatenate((arr1, arr2))\n",
    "print(arr)"
   ]
  },
  {
   "cell_type": "code",
   "execution_count": 3,
   "id": "f15d7e53-d9e6-4fe2-86f1-46622418cded",
   "metadata": {},
   "outputs": [
    {
     "name": "stdout",
     "output_type": "stream",
     "text": [
      "Array 1 :\n",
      " [[1 2]\n",
      " [3 4]]\n",
      "\n",
      "Array 2 :\n",
      " [[4 5]\n",
      " [6 7]]\n",
      "\n",
      "Merged array along horizontal axis :\n",
      " [[1 2 4 5]\n",
      " [3 4 6 7]]\n",
      "\n",
      "Merged array along vertical axis :\n",
      " [[1 2]\n",
      " [3 4]\n",
      " [4 5]\n",
      " [6 7]]\n"
     ]
    }
   ],
   "source": [
    "# For 2-D Array\n",
    "arr3 = np.array([[1,2],[3,4]])\n",
    "print(\"Array 1 :\\n\",arr3)\n",
    "print()\n",
    "\n",
    "arr4 = np.array([[4,5],[6,7]])\n",
    "print(\"Array 2 :\\n\",arr4)\n",
    "print()\n",
    "\n",
    "arr_hl = np.concatenate((arr3, arr4), axis=1)\n",
    "print(\"Merged array along horizontal axis :\\n\",arr_hl)\n",
    "print()\n",
    "\n",
    "arr_vl = np.concatenate((arr3, arr4), axis=0)\n",
    "print(\"Merged array along vertical axis :\\n\",arr_vl)"
   ]
  },
  {
   "cell_type": "code",
   "execution_count": 4,
   "id": "6383dfea-8851-4dfd-84a9-cfe252a9f54c",
   "metadata": {},
   "outputs": [
    {
     "name": "stdout",
     "output_type": "stream",
     "text": [
      "[[1 5]\n",
      " [2 6]\n",
      " [3 7]\n",
      " [4 8]]\n"
     ]
    }
   ],
   "source": [
    "# stack function \n",
    "arr5 = np.array([1,2,3,4])\n",
    "arr6 = np.array([5,6,7,8])\n",
    "\n",
    "arr_new = np.stack((arr5, arr6), axis = 1)\n",
    "print(arr_new)"
   ]
  },
  {
   "cell_type": "code",
   "execution_count": 5,
   "id": "c22e2108-e517-4b15-892a-5dd3bad783f5",
   "metadata": {},
   "outputs": [
    {
     "name": "stdout",
     "output_type": "stream",
     "text": [
      "[1 2 3 4 5 6 7 8]\n"
     ]
    }
   ],
   "source": [
    "# For accessing along row - hstack\n",
    "arr_new = np.hstack((arr5, arr6))\n",
    "print(arr_new)"
   ]
  },
  {
   "cell_type": "code",
   "execution_count": 6,
   "id": "7e8a92b5-d762-4794-9271-ccd257cc3668",
   "metadata": {},
   "outputs": [
    {
     "name": "stdout",
     "output_type": "stream",
     "text": [
      "[[1 2 3 4]\n",
      " [5 6 7 8]]\n"
     ]
    }
   ],
   "source": [
    "# For accessing along column - vstack\n",
    "arr_new = np.vstack((arr5, arr6))\n",
    "print(arr_new)"
   ]
  },
  {
   "cell_type": "code",
   "execution_count": 7,
   "id": "34b7773f-55e4-489e-a6b4-f46dca50c460",
   "metadata": {},
   "outputs": [
    {
     "name": "stdout",
     "output_type": "stream",
     "text": [
      "[[[1 5]\n",
      "  [2 6]\n",
      "  [3 7]\n",
      "  [4 8]]]\n"
     ]
    }
   ],
   "source": [
    "# For accessing along height - dstack\n",
    "arr_new = np.dstack((arr5, arr6))\n",
    "print(arr_new)"
   ]
  }
 ],
 "metadata": {
  "kernelspec": {
   "display_name": "Python 3 (ipykernel)",
   "language": "python",
   "name": "python3"
  },
  "language_info": {
   "codemirror_mode": {
    "name": "ipython",
    "version": 3
   },
   "file_extension": ".py",
   "mimetype": "text/x-python",
   "name": "python",
   "nbconvert_exporter": "python",
   "pygments_lexer": "ipython3",
   "version": "3.13.4"
  }
 },
 "nbformat": 4,
 "nbformat_minor": 5
}
