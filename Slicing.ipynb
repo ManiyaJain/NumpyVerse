{
 "cells": [
  {
   "cell_type": "markdown",
   "id": "3a53f2d8-0fe0-4610-bb5e-f24a503425c5",
   "metadata": {},
   "source": [
    "## Slicing"
   ]
  },
  {
   "cell_type": "code",
   "execution_count": 1,
   "id": "cef63c70-852f-46d7-9f5c-ae1fad4b43f0",
   "metadata": {},
   "outputs": [],
   "source": [
    "# x = [1,2,3,4,5]\n",
    "# If I want numbers 2 to 4\n",
    "# x[start : stop : step]"
   ]
  },
  {
   "cell_type": "code",
   "execution_count": 2,
   "id": "953305ff-f38a-4626-9db2-33bd08d51d33",
   "metadata": {},
   "outputs": [],
   "source": [
    "import numpy as np"
   ]
  },
  {
   "cell_type": "code",
   "execution_count": 3,
   "id": "21734d1d-252e-48f9-a68d-269963d5fec1",
   "metadata": {},
   "outputs": [
    {
     "name": "stdout",
     "output_type": "stream",
     "text": [
      "[1 2 3 4 5 6 7]\n",
      "\n",
      "Elements from index 1 to index 4 : [2 3 4 5]\n",
      "Elements from index 1 to last index : [2 3 4 5 6 7]\n",
      "Elements from index 0 to index 4 : [1 2 3 4 5]\n",
      "Elements from index 1 to 5 by a step of 2 : [2 4 6]\n"
     ]
    }
   ],
   "source": [
    "arr = np.array([1,2,3,4,5,6,7])\n",
    "# Indexes :     0,1,2,3,4,5,6\n",
    "\n",
    "print(arr)\n",
    "print()\n",
    "print(\"Elements from index 1 to index 4 :\",arr[1:5])\n",
    "\n",
    "# To get elements from a particular index to last\n",
    "print(\"Elements from index 1 to last index :\",arr[1:])\n",
    "\n",
    "# To get elements from start to a particular index\n",
    "print(\"Elements from index 0 to index 4 :\",arr[:5])\n",
    "\n",
    "# Get every 2nd element from index 1 to 5 (i.e., arr[1], arr[3], arr[5])\n",
    "print(\"Elements from index 1 to 5 by a step of 2 :\",arr[1:6:2]) # Slicing with a step of 2 starting at index 1 and going upto index 6(not included)"
   ]
  },
  {
   "cell_type": "code",
   "execution_count": 4,
   "id": "07e8c36d-4fc6-4050-84e8-318b47ee1fd6",
   "metadata": {},
   "outputs": [
    {
     "name": "stdout",
     "output_type": "stream",
     "text": [
      "[[2 5 7 6 3]\n",
      " [1 7 0 3 5]\n",
      " [3 7 5 9 8]]\n",
      "Elements of 1st row from column no 1 to 4 : [7 0 3 5]\n"
     ]
    }
   ],
   "source": [
    "# Slicing in 2-D array\n",
    "# arrayName[rowNo, columnNo from where you want the elements : columnNo to where you want the elements]\n",
    "\n",
    "arr2 = np.array([[2,5,7,6,3],[1,7,0,3,5],[3,7,5,9,8]])\n",
    "print(arr2)\n",
    "\n",
    "# To get elements from 7 to 5 of 1st row\n",
    "print(\"Elements of 1st row from column no 1 to 4 :\",arr2[1,1:])\n",
    "# We can also write it as - arr2[1,1:5]"
   ]
  },
  {
   "cell_type": "code",
   "execution_count": null,
   "id": "6d86eba6-c83d-4419-9a3f-de8b28f8187a",
   "metadata": {},
   "outputs": [],
   "source": []
  }
 ],
 "metadata": {
  "kernelspec": {
   "display_name": "Python 3 (ipykernel)",
   "language": "python",
   "name": "python3"
  },
  "language_info": {
   "codemirror_mode": {
    "name": "ipython",
    "version": 3
   },
   "file_extension": ".py",
   "mimetype": "text/x-python",
   "name": "python",
   "nbconvert_exporter": "python",
   "pygments_lexer": "ipython3",
   "version": "3.13.4"
  }
 },
 "nbformat": 4,
 "nbformat_minor": 5
}
