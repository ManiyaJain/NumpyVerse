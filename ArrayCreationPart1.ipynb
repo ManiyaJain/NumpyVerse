{
 "cells": [
  {
   "cell_type": "markdown",
   "id": "47f62ceb-703c-42c9-a2a9-be8ab956e4a6",
   "metadata": {},
   "source": [
    "# Array Creation : Conversion from other python structures"
   ]
  },
  {
   "cell_type": "code",
   "execution_count": 1,
   "id": "b21f0d15-7290-4263-ab1f-1c874a24185e",
   "metadata": {},
   "outputs": [],
   "source": [
    "import numpy as np"
   ]
  },
  {
   "cell_type": "code",
   "execution_count": 2,
   "id": "e5a7f187-12b0-462e-a49c-b35426068e75",
   "metadata": {},
   "outputs": [],
   "source": [
    "listArray = np.array([[1,2,3], [5,8,7], [0,3,1]])"
   ]
  },
  {
   "cell_type": "code",
   "execution_count": 3,
   "id": "3344ced1-b13a-4570-95a1-62011b2d9f41",
   "metadata": {},
   "outputs": [
    {
     "data": {
      "text/plain": [
       "array([[1, 2, 3],\n",
       "       [5, 8, 7],\n",
       "       [0, 3, 1]])"
      ]
     },
     "execution_count": 3,
     "metadata": {},
     "output_type": "execute_result"
    }
   ],
   "source": [
    "listArray"
   ]
  },
  {
   "cell_type": "code",
   "execution_count": 4,
   "id": "9bbaa32c-b063-4a32-866c-e92346e7b561",
   "metadata": {},
   "outputs": [
    {
     "data": {
      "text/plain": [
       "dtype('int64')"
      ]
     },
     "execution_count": 4,
     "metadata": {},
     "output_type": "execute_result"
    }
   ],
   "source": [
    "listArray.dtype"
   ]
  },
  {
   "cell_type": "code",
   "execution_count": 5,
   "id": "cdcb28a9-c8d9-4035-9692-e79abd250692",
   "metadata": {},
   "outputs": [
    {
     "data": {
      "text/plain": [
       "(3, 3)"
      ]
     },
     "execution_count": 5,
     "metadata": {},
     "output_type": "execute_result"
    }
   ],
   "source": [
    "listArray.shape"
   ]
  },
  {
   "cell_type": "code",
   "execution_count": 6,
   "id": "9b285948-60ed-477e-8b1f-f8cfd2254d21",
   "metadata": {},
   "outputs": [
    {
     "data": {
      "text/plain": [
       "9"
      ]
     },
     "execution_count": 6,
     "metadata": {},
     "output_type": "execute_result"
    }
   ],
   "source": [
    "listArray.size"
   ]
  },
  {
   "cell_type": "code",
   "execution_count": 7,
   "id": "55e87cab-a705-4e37-abe0-4b6d00776311",
   "metadata": {},
   "outputs": [
    {
     "data": {
      "text/plain": [
       "array({34, 27, 23}, dtype=object)"
      ]
     },
     "execution_count": 7,
     "metadata": {},
     "output_type": "execute_result"
    }
   ],
   "source": [
    "np.array({34,23,27})"
   ]
  }
 ],
 "metadata": {
  "kernelspec": {
   "display_name": "Python 3 (ipykernel)",
   "language": "python",
   "name": "python3"
  },
  "language_info": {
   "codemirror_mode": {
    "name": "ipython",
    "version": 3
   },
   "file_extension": ".py",
   "mimetype": "text/x-python",
   "name": "python",
   "nbconvert_exporter": "python",
   "pygments_lexer": "ipython3",
   "version": "3.13.4"
  }
 },
 "nbformat": 4,
 "nbformat_minor": 5
}
