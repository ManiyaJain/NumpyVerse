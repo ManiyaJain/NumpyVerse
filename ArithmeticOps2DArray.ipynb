{
 "cells": [
  {
   "cell_type": "markdown",
   "id": "0abf8777-d05e-4101-a941-9cc46681b70a",
   "metadata": {},
   "source": [
    "## Arithmetic Operations in 2-D array"
   ]
  },
  {
   "cell_type": "code",
   "execution_count": 1,
   "id": "65e77b71-c849-4ae6-a3b9-9ffbe2b5d071",
   "metadata": {},
   "outputs": [
    {
     "name": "stdout",
     "output_type": "stream",
     "text": [
      "[[ 6  8 10 12]\n",
      " [ 7 10 14  8]]\n"
     ]
    }
   ],
   "source": [
    "# Sum\n",
    "import numpy as np\n",
    "arr1 = np.array([[1,2,3,4], [5,6,7,8]])\n",
    "arr2 = np.array([[5,6,7,8], [2,4,7,0]])\n",
    "sum = np.add(arr1, arr2)\n",
    "print(sum)"
   ]
  },
  {
   "cell_type": "code",
   "execution_count": 2,
   "id": "3327639f-17ff-4fa6-bd24-3df58f478d8e",
   "metadata": {},
   "outputs": [
    {
     "name": "stdout",
     "output_type": "stream",
     "text": [
      "[[-4 -4 -4 -4]\n",
      " [ 3  2  0  8]]\n"
     ]
    }
   ],
   "source": [
    "# Subtraction\n",
    "arr1 = np.array([[1,2,3,4], [5,6,7,8]])\n",
    "arr2 = np.array([[5,6,7,8], [2,4,7,0]])\n",
    "sub = np.subtract(arr1, arr2)\n",
    "print(sub)"
   ]
  },
  {
   "cell_type": "code",
   "execution_count": 3,
   "id": "f314e73e-440d-471c-9adb-8b9b8702b57c",
   "metadata": {},
   "outputs": [
    {
     "name": "stdout",
     "output_type": "stream",
     "text": [
      "[[ 5 12 21 32]\n",
      " [10 24 49  0]]\n"
     ]
    }
   ],
   "source": [
    "# Multiplication\n",
    "arr1 = np.array([[1,2,3,4], [5,6,7,8]])\n",
    "arr2 = np.array([[5,6,7,8], [2,4,7,0]])\n",
    "multi = np.multiply(arr1, arr2)\n",
    "print(multi)"
   ]
  },
  {
   "cell_type": "code",
   "execution_count": 4,
   "id": "874779ac-e6eb-44c2-8e4c-1ae4a98a37b7",
   "metadata": {},
   "outputs": [
    {
     "name": "stdout",
     "output_type": "stream",
     "text": [
      "[[0.2        0.33333333 0.42857143 0.5       ]\n",
      " [2.5        1.5        1.         8.        ]]\n"
     ]
    }
   ],
   "source": [
    "# Division\n",
    "arr1 = np.array([[1,2,3,4], [5,6,7,8]])\n",
    "arr2 = np.array([[5,6,7,8], [2,4,7,1]])\n",
    "div = np.divide(arr1, arr2)\n",
    "print(div)"
   ]
  },
  {
   "cell_type": "code",
   "execution_count": 5,
   "id": "321bc20e-b523-4474-a3cb-033c335b5d60",
   "metadata": {},
   "outputs": [
    {
     "name": "stdout",
     "output_type": "stream",
     "text": [
      "[[1 0 0 0]\n",
      " [0 0 0 0]]\n"
     ]
    }
   ],
   "source": [
    "# Reciprocal\n",
    "arr1 = np.array([[1,2,3,4], [5,6,7,8]])\n",
    "rec = np.reciprocal(arr1)\n",
    "print(rec)"
   ]
  }
 ],
 "metadata": {
  "kernelspec": {
   "display_name": "Python 3 (ipykernel)",
   "language": "python",
   "name": "python3"
  },
  "language_info": {
   "codemirror_mode": {
    "name": "ipython",
    "version": 3
   },
   "file_extension": ".py",
   "mimetype": "text/x-python",
   "name": "python",
   "nbconvert_exporter": "python",
   "pygments_lexer": "ipython3",
   "version": "3.13.4"
  }
 },
 "nbformat": 4,
 "nbformat_minor": 5
}
