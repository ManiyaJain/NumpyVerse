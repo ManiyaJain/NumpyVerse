{
 "cells": [
  {
   "cell_type": "markdown",
   "id": "acf1232e-45e2-46d9-a2a0-6488ee64c3f0",
   "metadata": {},
   "source": [
    "## Matrix"
   ]
  },
  {
   "cell_type": "code",
   "execution_count": 1,
   "id": "d4e6d9b9-0001-4d7c-90df-322e176bbc9b",
   "metadata": {},
   "outputs": [],
   "source": [
    "import numpy as np"
   ]
  },
  {
   "cell_type": "code",
   "execution_count": 6,
   "id": "9d5529c5-86f4-43ca-9834-096f9ac913f9",
   "metadata": {},
   "outputs": [
    {
     "name": "stdout",
     "output_type": "stream",
     "text": [
      "[[1 4 8]\n",
      " [5 9 0]]\n",
      "<class 'numpy.matrix'>\n"
     ]
    }
   ],
   "source": [
    "arr_matrix = np.matrix([[1,4,8],[5,9,0]])\n",
    "print(arr_matrix)\n",
    "print(type(arr_matrix))"
   ]
  },
  {
   "cell_type": "code",
   "execution_count": 7,
   "id": "57005e04-a536-414b-ac40-428dbb4b3d74",
   "metadata": {},
   "outputs": [
    {
     "name": "stdout",
     "output_type": "stream",
     "text": [
      "[[1 4 8]\n",
      " [5 9 0]]\n",
      "<class 'numpy.ndarray'>\n"
     ]
    }
   ],
   "source": [
    "arr_array = np.array([[1,4,8],[5,9,0]])\n",
    "print(arr_array)\n",
    "print(type(arr_array))"
   ]
  },
  {
   "cell_type": "markdown",
   "id": "485d34cd-999e-4c83-9355-38433b334150",
   "metadata": {},
   "source": [
    "**Arithmetic operations on matrix**"
   ]
  },
  {
   "cell_type": "code",
   "execution_count": 8,
   "id": "24068fab-335e-4418-a5eb-3e3b0a055ffe",
   "metadata": {},
   "outputs": [
    {
     "name": "stdout",
     "output_type": "stream",
     "text": [
      "[[ 4  8 12]\n",
      " [ 6 10 14]]\n"
     ]
    }
   ],
   "source": [
    "# Addition\n",
    "arr1 = np.matrix([[2,4,6],[3,5,7]])\n",
    "arr2 = np.matrix([[2,4,6],[3,5,7]])\n",
    "print(arr1 + arr2)"
   ]
  },
  {
   "cell_type": "code",
   "execution_count": 16,
   "id": "e39591d8-0b35-46d9-9e2c-a0d15ab74ba1",
   "metadata": {},
   "outputs": [
    {
     "name": "stdout",
     "output_type": "stream",
     "text": [
      "By using multiplication sign\n",
      " [[16 28]\n",
      " [21 37]] \n",
      "\n",
      "By using dot product\n",
      " [[16 28]\n",
      " [21 37]]\n"
     ]
    }
   ],
   "source": [
    "# Multiplication\n",
    "arr1 = np.matrix([[2,4],[3,5]])\n",
    "arr2 = np.matrix([[2,4],[3,5]])\n",
    "print(\"By using multiplication sign\\n\",arr1 * arr2,\"\\n\")\n",
    "print(\"By using dot product\\n\",arr1.dot(arr2))"
   ]
  },
  {
   "cell_type": "markdown",
   "id": "7cd3db2e-4d8e-4676-ae46-9687e617c6c7",
   "metadata": {},
   "source": [
    "## Matrix Functions"
   ]
  },
  {
   "cell_type": "markdown",
   "id": "bcd4dade-46ce-4ef5-8a20-5c1a2c93b847",
   "metadata": {},
   "source": [
    "**Transpose - rows into columns and vice versa**"
   ]
  },
  {
   "cell_type": "code",
   "execution_count": 21,
   "id": "6226b817-6737-440e-8973-85d222b2a9ca",
   "metadata": {},
   "outputs": [
    {
     "name": "stdout",
     "output_type": "stream",
     "text": [
      "[[1 0 4 5]\n",
      " [3 0 8 6]] \n",
      "\n",
      "[[1 3]\n",
      " [0 0]\n",
      " [4 8]\n",
      " [5 6]] \n",
      "\n",
      "[[1 3]\n",
      " [0 0]\n",
      " [4 8]\n",
      " [5 6]]\n"
     ]
    }
   ],
   "source": [
    "arr = np.matrix([[1,0,4,5],[3,0,8,6]])\n",
    "print(arr,\"\\n\")\n",
    "print(np.transpose(arr),\"\\n\")\n",
    "# We can also use arr.T\n",
    "print(arr.T)"
   ]
  },
  {
   "cell_type": "markdown",
   "id": "351a2ac0-1646-4b7c-8a53-9449b9a77442",
   "metadata": {},
   "source": [
    "**Swapaxes - rows into columns and vice versa**"
   ]
  },
  {
   "cell_type": "code",
   "execution_count": 23,
   "id": "47d883d6-76c7-402d-9930-b884c606e4f4",
   "metadata": {},
   "outputs": [
    {
     "name": "stdout",
     "output_type": "stream",
     "text": [
      "[[1 0 4 5]\n",
      " [3 0 8 6]] \n",
      "\n",
      "[[1 3]\n",
      " [0 0]\n",
      " [4 8]\n",
      " [5 6]]\n"
     ]
    }
   ],
   "source": [
    "arr = np.matrix([[1,0,4,5],[3,0,8,6]])\n",
    "print(arr,\"\\n\")\n",
    "print(np.swapaxes(arr,0,1))"
   ]
  },
  {
   "cell_type": "code",
   "execution_count": 25,
   "id": "110aa6bc-57f8-4503-aa24-574f50da130e",
   "metadata": {},
   "outputs": [
    {
     "name": "stdout",
     "output_type": "stream",
     "text": [
      "[[1 7]\n",
      " [3 6]] \n",
      "\n",
      "[[1 3]\n",
      " [7 6]]\n"
     ]
    }
   ],
   "source": [
    "sq_matrix = np.matrix([[1,7],[3,6]])\n",
    "print(sq_matrix,\"\\n\")\n",
    "print(np.swapaxes(sq_matrix,1,0))"
   ]
  },
  {
   "cell_type": "markdown",
   "id": "de89115d-2a43-4769-8759-697a0bfd5a7a",
   "metadata": {},
   "source": [
    "**Inverse of a matrix**"
   ]
  },
  {
   "cell_type": "code",
   "execution_count": 27,
   "id": "06847e04-8ecc-4653-83d6-e4cebf040313",
   "metadata": {},
   "outputs": [
    {
     "name": "stdout",
     "output_type": "stream",
     "text": [
      "[[1 2]\n",
      " [3 4]] \n",
      "\n",
      "[[-2.   1. ]\n",
      " [ 1.5 -0.5]]\n"
     ]
    }
   ],
   "source": [
    "arr3 = np.matrix([[1,2],[3,4]])\n",
    "print(arr3,\"\\n\")\n",
    "print(np.linalg.inv(arr3)) # Inverse"
   ]
  },
  {
   "cell_type": "markdown",
   "id": "c72dea77-98b8-4642-b1a2-939e4cd9ab96",
   "metadata": {},
   "source": [
    "**Power of a matrix**"
   ]
  },
  {
   "cell_type": "code",
   "execution_count": 37,
   "id": "70fa2544-613e-46d1-bd60-94956ce5807b",
   "metadata": {},
   "outputs": [
    {
     "name": "stdout",
     "output_type": "stream",
     "text": [
      "A\n",
      " [[1 4]\n",
      " [2 9]] \n",
      "\n",
      "A^2\n",
      " [[ 9 40]\n",
      " [20 89]] \n",
      "\n",
      "Identity matrix\n",
      " [[1 0]\n",
      " [0 1]] \n",
      "\n",
      "Inverse * Power of matrix\n",
      " [[ 89. -40.]\n",
      " [-20.   9.]]\n"
     ]
    }
   ],
   "source": [
    "# np.linalg.matrix_power(arr, n)\n",
    "# arr - array name\n",
    "# n - n<0 or n=0 or n>0\n",
    "# If n = 0, we get identity matrix\n",
    "# If n > 0, the matrix is multiplied power no. of times\n",
    "# If n < 0, we get the result - inverse * power \n",
    "A = np.matrix([[1,4],[2,9]])\n",
    "print(\"A\\n\",A,\"\\n\")\n",
    "print(\"A^2\\n\",np.linalg.matrix_power(A,2),\"\\n\") # n > 0\n",
    "print(\"Identity matrix\\n\",np.linalg.matrix_power(A,0),\"\\n\") # n = 0\n",
    "print(\"Inverse * Power of matrix\\n\",np.linalg.matrix_power(A,-2)) # n < 0"
   ]
  },
  {
   "cell_type": "markdown",
   "id": "b394e92c-a9fe-4539-b83a-a9050a4384e4",
   "metadata": {},
   "source": [
    "**Determinant of a matrix**"
   ]
  },
  {
   "cell_type": "code",
   "execution_count": 40,
   "id": "4df8a425-4194-4f86-9313-5e18800c07bc",
   "metadata": {},
   "outputs": [
    {
     "name": "stdout",
     "output_type": "stream",
     "text": [
      "Determinant\n",
      " -14.000000000000004\n"
     ]
    }
   ],
   "source": [
    "arr4 = np.matrix([[2,8],[4,9]])\n",
    "print(\"Determinant\\n\",np.linalg.det(arr4))"
   ]
  },
  {
   "cell_type": "code",
   "execution_count": null,
   "id": "2d6a605b-a65d-4e4c-8ba2-20d5bf41afc3",
   "metadata": {},
   "outputs": [],
   "source": []
  }
 ],
 "metadata": {
  "kernelspec": {
   "display_name": "Python 3 (ipykernel)",
   "language": "python",
   "name": "python3"
  },
  "language_info": {
   "codemirror_mode": {
    "name": "ipython",
    "version": 3
   },
   "file_extension": ".py",
   "mimetype": "text/x-python",
   "name": "python",
   "nbconvert_exporter": "python",
   "pygments_lexer": "ipython3",
   "version": "3.13.4"
  }
 },
 "nbformat": 4,
 "nbformat_minor": 5
}
