{
 "cells": [
  {
   "cell_type": "code",
   "execution_count": 1,
   "id": "cb531ff9-82b1-45e8-9e52-f726480f46cb",
   "metadata": {},
   "outputs": [],
   "source": [
    "import numpy as np"
   ]
  },
  {
   "cell_type": "code",
   "execution_count": 2,
   "id": "5f8f3b73-5007-4d08-8b68-c38f2f10b587",
   "metadata": {},
   "outputs": [
    {
     "name": "stdout",
     "output_type": "stream",
     "text": [
      "Original array : [2 4 5 8]\n",
      "Copy of array(copy()) : [2 4 5 8]\n"
     ]
    }
   ],
   "source": [
    "arr = np.array([2,4,5,8])\n",
    "c = arr.copy()\n",
    "\n",
    "print(\"Original array :\",arr)\n",
    "print(\"Copy of array(copy()) :\",c)"
   ]
  },
  {
   "cell_type": "code",
   "execution_count": 3,
   "id": "f8c66eb1-922c-4128-93a0-c495eaa88bd5",
   "metadata": {},
   "outputs": [
    {
     "name": "stdout",
     "output_type": "stream",
     "text": [
      "x : [9 3 4 5]\n",
      "Copy of array(view()) : [9 3 4 5]\n"
     ]
    }
   ],
   "source": [
    "x = np.array([9,3,4,5])\n",
    "v = x.view()\n",
    "\n",
    "print(\"x :\",x)\n",
    "print(\"Copy of array(view()) :\",v)"
   ]
  },
  {
   "cell_type": "markdown",
   "id": "03f91c69-ca57-4d78-a742-8a59003b8c8c",
   "metadata": {},
   "source": [
    "## Difference between view and copy"
   ]
  },
  {
   "cell_type": "code",
   "execution_count": 4,
   "id": "9d97a46c-d783-44b8-9dda-5db02e882104",
   "metadata": {},
   "outputs": [
    {
     "name": "stdout",
     "output_type": "stream",
     "text": [
      "Original array : [2 4 9 8]\n",
      "Copy of array(copy()) : [2 4 5 8]\n"
     ]
    }
   ],
   "source": [
    "# The changes made in the original array does not reflect in copy array, when we use copy function\n",
    "arr = np.array([2,4,5,8])\n",
    "c = arr.copy()\n",
    "arr[2] = 9\n",
    "\n",
    "print(\"Original array :\",arr)\n",
    "print(\"Copy of array(copy()) :\",c)"
   ]
  },
  {
   "cell_type": "code",
   "execution_count": 5,
   "id": "daa7bb7e-e7e6-4ce5-829c-45e3eebcfd51",
   "metadata": {},
   "outputs": [
    {
     "name": "stdout",
     "output_type": "stream",
     "text": [
      "Original array : [2 4 9 8]\n",
      "Copy of array(view()) : [2 4 9 8]\n"
     ]
    }
   ],
   "source": [
    "# The changes made in the original reflect in copy array, when we use view function\n",
    "arr = np.array([2,4,5,8])\n",
    "v = arr.view()\n",
    "arr[2] = 9\n",
    "\n",
    "print(\"Original array :\",arr)\n",
    "print(\"Copy of array(view()) :\",v)"
   ]
  }
 ],
 "metadata": {
  "kernelspec": {
   "display_name": "Python 3 (ipykernel)",
   "language": "python",
   "name": "python3"
  },
  "language_info": {
   "codemirror_mode": {
    "name": "ipython",
    "version": 3
   },
   "file_extension": ".py",
   "mimetype": "text/x-python",
   "name": "python",
   "nbconvert_exporter": "python",
   "pygments_lexer": "ipython3",
   "version": "3.13.4"
  }
 },
 "nbformat": 4,
 "nbformat_minor": 5
}
