{
 "cells": [
  {
   "cell_type": "markdown",
   "id": "db77f6b1-1cc0-48c9-a568-301abdd09722",
   "metadata": {},
   "source": [
    "## Indexing"
   ]
  },
  {
   "cell_type": "code",
   "execution_count": 1,
   "id": "296e9a8d-a882-4341-bd61-667a4c6f5ba9",
   "metadata": {},
   "outputs": [],
   "source": [
    "import numpy as np"
   ]
  },
  {
   "cell_type": "code",
   "execution_count": 10,
   "id": "fd7a984e-1b15-4dd5-9819-7db6f55047d1",
   "metadata": {},
   "outputs": [
    {
     "name": "stdout",
     "output_type": "stream",
     "text": [
      "Element at 1 : 3\n",
      "Element at -2 : 7\n"
     ]
    }
   ],
   "source": [
    "# 1-D Array\n",
    "var = np.array([4,3,7,6])\n",
    "# Indexes:      0,1,2,3\n",
    "# -ve Indexing: -4,-3,-2,-1\n",
    "print(\"Element at 1 :\",var[1]) # var[1] - element of 1st index\n",
    "print(\"Element at -2 :\",var[-2]) # var[-2] - element of -2 index"
   ]
  },
  {
   "cell_type": "code",
   "execution_count": 11,
   "id": "aee8aa1f-77c0-4ab3-8f02-280eeb672ac3",
   "metadata": {},
   "outputs": [
    {
     "name": "stdout",
     "output_type": "stream",
     "text": [
      "[[2 5 4]\n",
      " [9 6 4]]\n",
      "Dimensions : 2\n",
      "Element at (1,2) : 4\n"
     ]
    }
   ],
   "source": [
    "#  2-D Array\n",
    "var1 = np.array([[2,5,4], [9,6,4]])\n",
    "print(var1)\n",
    "print(\"Dimensions :\", var1.ndim)\n",
    "print(\"Element at (1,2) :\",var1[1,2])"
   ]
  },
  {
   "cell_type": "code",
   "execution_count": 17,
   "id": "b9cc8e03-8856-4f7b-b100-3a38f025019e",
   "metadata": {},
   "outputs": [
    {
     "name": "stdout",
     "output_type": "stream",
     "text": [
      "[[[1 2]\n",
      "  [3 4]]\n",
      "\n",
      " [[5 6]\n",
      "  [7 8]]]\n",
      "Dimensions : 3\n",
      "Element at (0,0,1) : 2\n"
     ]
    }
   ],
   "source": [
    "# 3-D Array\n",
    "var2 = np.array([[[1,2], [3,4]], [[5,6], [7,8]]])\n",
    "print(var2)\n",
    "print(\"Dimensions :\", var2.ndim)\n",
    "print(\"Element at (0,0,1) :\",var2[0,0,1])"
   ]
  },
  {
   "cell_type": "code",
   "execution_count": null,
   "id": "7f51c0bd-37c6-42a9-b624-0313d8baf2e9",
   "metadata": {},
   "outputs": [],
   "source": []
  }
 ],
 "metadata": {
  "kernelspec": {
   "display_name": "Python 3 (ipykernel)",
   "language": "python",
   "name": "python3"
  },
  "language_info": {
   "codemirror_mode": {
    "name": "ipython",
    "version": 3
   },
   "file_extension": ".py",
   "mimetype": "text/x-python",
   "name": "python",
   "nbconvert_exporter": "python",
   "pygments_lexer": "ipython3",
   "version": "3.13.4"
  }
 },
 "nbformat": 4,
 "nbformat_minor": 5
}
