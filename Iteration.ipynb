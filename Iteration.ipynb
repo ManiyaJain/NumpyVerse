{
 "cells": [
  {
   "cell_type": "markdown",
   "id": "8588ca74-057a-498a-9706-abebccf26414",
   "metadata": {},
   "source": [
    "## Iterating Numpy Arrays - using for loop"
   ]
  },
  {
   "cell_type": "code",
   "execution_count": 1,
   "id": "35ea7fff-f35e-440b-8696-13d6c8967132",
   "metadata": {},
   "outputs": [],
   "source": [
    "import numpy as np"
   ]
  },
  {
   "cell_type": "code",
   "execution_count": 2,
   "id": "a03de5e7-6cfe-4604-a75d-f8bfe93df888",
   "metadata": {},
   "outputs": [
    {
     "name": "stdout",
     "output_type": "stream",
     "text": [
      "[3 5 4 2 7 9]\n",
      "\n",
      "3\n",
      "5\n",
      "4\n",
      "2\n",
      "7\n",
      "9\n"
     ]
    }
   ],
   "source": [
    "# 1-D Array \n",
    "arr = np.array([3,5,4,2,7,9])\n",
    "print(arr)\n",
    "print()\n",
    "\n",
    "for i in arr :\n",
    "    print(i)"
   ]
  },
  {
   "cell_type": "code",
   "execution_count": 3,
   "id": "b6635dcb-8131-4f63-aef9-f73a17d45ee7",
   "metadata": {},
   "outputs": [
    {
     "name": "stdout",
     "output_type": "stream",
     "text": [
      "[[1 2 3 4]\n",
      " [5 6 7 8]]\n",
      "\n",
      "[1 2 3 4]\n",
      "[5 6 7 8]\n",
      "\n",
      "1\n",
      "2\n",
      "3\n",
      "4\n",
      "5\n",
      "6\n",
      "7\n",
      "8\n"
     ]
    }
   ],
   "source": [
    "# 2-D Array\n",
    "arr1 = np.array([[1,2,3,4],[5,6,7,8]])\n",
    "print(arr1)\n",
    "print()\n",
    "\n",
    "for i in arr1 :\n",
    "    print(i)\n",
    "print()\n",
    "\n",
    "for j in arr1 :\n",
    "    for k in j :\n",
    "        print(k)\n",
    "        "
   ]
  },
  {
   "cell_type": "code",
   "execution_count": 4,
   "id": "87405c1a-7c9a-4272-86d1-fe24ba656009",
   "metadata": {},
   "outputs": [
    {
     "name": "stdout",
     "output_type": "stream",
     "text": [
      "[[[1 2 3]\n",
      "  [4 5 6]]]\n",
      "Dimensions : 3\n",
      "\n",
      "1\n",
      "2\n",
      "3\n",
      "4\n",
      "5\n",
      "6\n"
     ]
    }
   ],
   "source": [
    "# 3-D Array\n",
    "arr3 = np.array([[[1,2,3], [4,5,6]]])\n",
    "print(arr3)\n",
    "print(\"Dimensions :\", arr3.ndim)\n",
    "print()\n",
    "\n",
    "for i in arr3 :\n",
    "    for j in i :\n",
    "        for k in j :\n",
    "            print(k)"
   ]
  },
  {
   "cell_type": "markdown",
   "id": "1adca627-eb55-43ca-b2d6-cc17666b5588",
   "metadata": {},
   "source": [
    " ## Iterating Numpy Arrays - using nditer()"
   ]
  },
  {
   "cell_type": "code",
   "execution_count": 5,
   "id": "90e8cc9d-63fc-45a2-8762-bfd5fb818357",
   "metadata": {},
   "outputs": [
    {
     "name": "stdout",
     "output_type": "stream",
     "text": [
      "[[[1 2 3]\n",
      "  [4 5 6]]]\n",
      "Dimensions : 3\n",
      "\n",
      "1\n",
      "2\n",
      "3\n",
      "4\n",
      "5\n",
      "6\n"
     ]
    }
   ],
   "source": [
    "arr3 = np.array([[[1,2,3], [4,5,6]]])\n",
    "print(arr3)\n",
    "print(\"Dimensions :\", arr3.ndim)\n",
    "print()\n",
    "\n",
    "for i in np.nditer(arr3) :\n",
    "    print(i)"
   ]
  },
  {
   "cell_type": "code",
   "execution_count": 6,
   "id": "13dd6aba-4df8-47a5-b827-b5715bbc3df3",
   "metadata": {},
   "outputs": [
    {
     "name": "stdout",
     "output_type": "stream",
     "text": [
      "[[[1 2 3]\n",
      "  [4 5 6]]]\n",
      "Dimensions : 3\n",
      "\n",
      "np.bytes_(b'1')\n",
      "np.bytes_(b'2')\n",
      "np.bytes_(b'3')\n",
      "np.bytes_(b'4')\n",
      "np.bytes_(b'5')\n",
      "np.bytes_(b'6')\n"
     ]
    }
   ],
   "source": [
    "arr3 = np.array([[[1,2,3], [4,5,6]]])\n",
    "print(arr3)\n",
    "print(\"Dimensions :\", arr3.ndim)\n",
    "print()\n",
    "\n",
    "for i in np.nditer(arr3, flags=['buffered'],op_dtypes=[\"S\"]) :\n",
    "    print(i)"
   ]
  },
  {
   "cell_type": "code",
   "execution_count": 7,
   "id": "7bd4be0e-dd6a-41bd-b6b2-a157f9eed7fc",
   "metadata": {},
   "outputs": [
    {
     "name": "stdout",
     "output_type": "stream",
     "text": [
      "[[[1 0 5 6 3]\n",
      "  [2 7 0 8 4]]]\n",
      "Dimensions : 3\n",
      "\n",
      "(0, 0, 0) 1\n",
      "(0, 0, 1) 0\n",
      "(0, 0, 2) 5\n",
      "(0, 0, 3) 6\n",
      "(0, 0, 4) 3\n",
      "(0, 1, 0) 2\n",
      "(0, 1, 1) 7\n",
      "(0, 1, 2) 0\n",
      "(0, 1, 3) 8\n",
      "(0, 1, 4) 4\n"
     ]
    }
   ],
   "source": [
    "# If we want indexes along with iteration\n",
    "# ndenumerate()\n",
    "arr3 = np.array([[[1,0,5,6,3], [2,7,0,8,4]]])\n",
    "print(arr3)\n",
    "print(\"Dimensions :\", arr3.ndim)\n",
    "print()\n",
    "\n",
    "for i,d in np.ndenumerate(arr3) :\n",
    "    print(i,d)"
   ]
  }
 ],
 "metadata": {
  "kernelspec": {
   "display_name": "Python 3 (ipykernel)",
   "language": "python",
   "name": "python3"
  },
  "language_info": {
   "codemirror_mode": {
    "name": "ipython",
    "version": 3
   },
   "file_extension": ".py",
   "mimetype": "text/x-python",
   "name": "python",
   "nbconvert_exporter": "python",
   "pygments_lexer": "ipython3",
   "version": "3.13.4"
  }
 },
 "nbformat": 4,
 "nbformat_minor": 5
}
