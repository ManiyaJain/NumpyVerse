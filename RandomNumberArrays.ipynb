{
 "cells": [
  {
   "cell_type": "markdown",
   "id": "bdd9167d-d116-4b02-8938-56e57be117a8",
   "metadata": {},
   "source": [
    "## Create array with random numbers"
   ]
  },
  {
   "cell_type": "markdown",
   "id": "2d98c4f6-3441-4345-80ae-24ddfe22a1dd",
   "metadata": {},
   "source": [
    "**rand() - used to generate a random value between 0 to 1**"
   ]
  },
  {
   "cell_type": "code",
   "execution_count": 3,
   "id": "717a184b-2a44-4991-8ddd-35fd4094d1f4",
   "metadata": {},
   "outputs": [
    {
     "name": "stdout",
     "output_type": "stream",
     "text": [
      "[0.07679578 0.3526551  0.77990238 0.21598131]\n"
     ]
    }
   ],
   "source": [
    "import numpy as np\n",
    "\n",
    "var = np.random.rand(4)\n",
    "print(var)"
   ]
  },
  {
   "cell_type": "code",
   "execution_count": 4,
   "id": "7bf32795-30f5-4b48-9fc8-4ba8d9427c82",
   "metadata": {},
   "outputs": [
    {
     "name": "stdout",
     "output_type": "stream",
     "text": [
      "[[0.22808297 0.07335892 0.32628132 0.69830655 0.73107723]\n",
      " [0.36868861 0.61918556 0.84477181 0.89479469 0.94484141]]\n"
     ]
    }
   ],
   "source": [
    "var1 = np.random.rand(2,5)\n",
    "print(var1)"
   ]
  },
  {
   "cell_type": "markdown",
   "id": "a7fd9aa6-a521-4b91-9922-f1c41a0177a6",
   "metadata": {},
   "source": [
    "**randn() - used to generate a random value close to zero, may return +ve and -ve numbers as well**"
   ]
  },
  {
   "cell_type": "code",
   "execution_count": 5,
   "id": "e82f8c16-cc7c-487e-a09e-23b1bdfe3bf0",
   "metadata": {},
   "outputs": [
    {
     "name": "stdout",
     "output_type": "stream",
     "text": [
      "[-0.43857155 -0.85413257 -0.2888723  -0.89503156 -0.38825343]\n"
     ]
    }
   ],
   "source": [
    "var2 = np.random.randn(5)\n",
    "print(var2)"
   ]
  },
  {
   "cell_type": "markdown",
   "id": "65c19513-4dcc-46e5-b537-e2c441774e0e",
   "metadata": {},
   "source": [
    "**ranf() - for doing random sampling in numpy, returns an array of specified shape and fills it with random floats in the half open interval[0.0, 1.0)**"
   ]
  },
  {
   "cell_type": "code",
   "execution_count": 6,
   "id": "78f049e6-6682-487c-83a1-f6a7e8d41add",
   "metadata": {},
   "outputs": [
    {
     "name": "stdout",
     "output_type": "stream",
     "text": [
      "[0.46548337 0.03210434 0.45833736 0.47257203]\n"
     ]
    }
   ],
   "source": [
    "var3 = np.random.ranf(4)\n",
    "print(var3)"
   ]
  },
  {
   "cell_type": "markdown",
   "id": "d5565457-d442-4bc6-8349-a8c103507d23",
   "metadata": {},
   "source": [
    "**randint() - used to generate a random number between a given range**"
   ]
  },
  {
   "cell_type": "code",
   "execution_count": 8,
   "id": "6240d0ee-511c-4c64-8624-ae879ce6e698",
   "metadata": {},
   "outputs": [
    {
     "name": "stdout",
     "output_type": "stream",
     "text": [
      "[14 19  8 19 14]\n"
     ]
    }
   ],
   "source": [
    "# np.random.randint(min, max, total_values)\n",
    "var4 = np.random.randint(5, 20, 5)\n",
    "print(var4)"
   ]
  }
 ],
 "metadata": {
  "kernelspec": {
   "display_name": "Python 3 (ipykernel)",
   "language": "python",
   "name": "python3"
  },
  "language_info": {
   "codemirror_mode": {
    "name": "ipython",
    "version": 3
   },
   "file_extension": ".py",
   "mimetype": "text/x-python",
   "name": "python",
   "nbconvert_exporter": "python",
   "pygments_lexer": "ipython3",
   "version": "3.13.4"
  }
 },
 "nbformat": 4,
 "nbformat_minor": 5
}
