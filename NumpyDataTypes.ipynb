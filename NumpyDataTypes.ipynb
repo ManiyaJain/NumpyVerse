{
 "cells": [
  {
   "cell_type": "markdown",
   "id": "f1e438b5-cb33-43de-9d84-fb4277f92fc5",
   "metadata": {},
   "source": [
    "## Data Types"
   ]
  },
  {
   "cell_type": "code",
   "execution_count": 1,
   "id": "c180fbba-249d-484b-a3fc-b6bbaedfee96",
   "metadata": {},
   "outputs": [
    {
     "name": "stdout",
     "output_type": "stream",
     "text": [
      "Data Type :  int64\n"
     ]
    }
   ],
   "source": [
    "import numpy as np\n",
    "\n",
    "var = np.array([1,2,3,4])\n",
    "print(\"Data Type : \", var.dtype)"
   ]
  },
  {
   "cell_type": "code",
   "execution_count": 2,
   "id": "0e991d53-2750-4d08-a152-74136ed6f831",
   "metadata": {},
   "outputs": [
    {
     "name": "stdout",
     "output_type": "stream",
     "text": [
      "Data Type :  float64\n"
     ]
    }
   ],
   "source": [
    "var = np.array([1.0,2.4,3.7,4.9])\n",
    "print(\"Data Type : \", var.dtype)"
   ]
  },
  {
   "cell_type": "code",
   "execution_count": 3,
   "id": "88485e37-95c6-4c31-92b2-c15f6c77fb82",
   "metadata": {},
   "outputs": [
    {
     "name": "stdout",
     "output_type": "stream",
     "text": [
      "Data Type :  <U1\n"
     ]
    }
   ],
   "source": [
    "var = np.array([\"A\", \"M\", \"G\", \"J\"])\n",
    "print(\"Data Type : \", var.dtype)"
   ]
  },
  {
   "cell_type": "code",
   "execution_count": 4,
   "id": "b5de3d6c-010c-4d20-bc09-b57878790371",
   "metadata": {},
   "outputs": [
    {
     "name": "stdout",
     "output_type": "stream",
     "text": [
      "Data Type :  <U21\n"
     ]
    }
   ],
   "source": [
    "var = np.array([\"A\", \"M\", \"G\", \"J\", 1, 2, 3, 4])\n",
    "print(\"Data Type : \", var.dtype)"
   ]
  },
  {
   "cell_type": "code",
   "execution_count": 5,
   "id": "6e8e8036-23ca-4005-9628-d8ddabc53e86",
   "metadata": {},
   "outputs": [
    {
     "name": "stdout",
     "output_type": "stream",
     "text": [
      "int64\n",
      "int8\n"
     ]
    }
   ],
   "source": [
    "# Convert from one datatype to other\n",
    "x = np.array([1,2,3,4])\n",
    "print(x.dtype)\n",
    "\n",
    "x = np.array([1,2,3,4], dtype = np.int8)\n",
    "print(x.dtype)"
   ]
  },
  {
   "cell_type": "code",
   "execution_count": 6,
   "id": "35b4d352-015c-4b46-85bf-5abc1bf55881",
   "metadata": {},
   "outputs": [
    {
     "name": "stdout",
     "output_type": "stream",
     "text": [
      "float32\n",
      "[1. 2. 3. 4.]\n"
     ]
    }
   ],
   "source": [
    "x1 = np.array([1,2,3,4], dtype = \"f\")\n",
    "print(x1.dtype)\n",
    "print(x1)"
   ]
  },
  {
   "cell_type": "code",
   "execution_count": 7,
   "id": "c9880b1c-5579-464c-a5cf-d76b98740329",
   "metadata": {},
   "outputs": [
    {
     "name": "stdout",
     "output_type": "stream",
     "text": [
      "Data Type :  int64\n",
      "[1 2 3 4]\n",
      "Data Type :  float32\n",
      "[1. 2. 3. 4.]\n"
     ]
    }
   ],
   "source": [
    "x2 = np.array([1,2,3,4])\n",
    "newx2 = np.float32(x2)\n",
    "\n",
    "print(\"Data Type : \",x2.dtype)\n",
    "print(x2)\n",
    "\n",
    "print(\"Data Type : \", newx2.dtype)\n",
    "print(newx2)"
   ]
  },
  {
   "cell_type": "code",
   "execution_count": 8,
   "id": "f68f46d2-a8bb-4d55-acca-c89bd92207a7",
   "metadata": {},
   "outputs": [
    {
     "name": "stdout",
     "output_type": "stream",
     "text": [
      "Data Type :  int64\n",
      "[1 2 3 4]\n",
      "Data Type :  float32\n",
      "[1. 2. 3. 4.]\n",
      "Data Type :  int64\n",
      "[1 2 3 4]\n"
     ]
    }
   ],
   "source": [
    "x2 = np.array([1,2,3,4])\n",
    "newx2 = np.float32(x2)\n",
    "new_one = np.int_(newx2)\n",
    "\n",
    "print(\"Data Type : \",x2.dtype)\n",
    "print(x2)\n",
    "\n",
    "print(\"Data Type : \", newx2.dtype)\n",
    "print(newx2)\n",
    "\n",
    "print(\"Data Type : \", new_one.dtype)\n",
    "print(new_one)"
   ]
  },
  {
   "cell_type": "code",
   "execution_count": 10,
   "id": "4d140442-f64a-45b4-b7bb-fd0146d534a2",
   "metadata": {},
   "outputs": [
    {
     "name": "stdout",
     "output_type": "stream",
     "text": [
      "[5 6 7 8]\n",
      "[5. 6. 7. 8.]\n"
     ]
    }
   ],
   "source": [
    "x3 = np.array([5,6,7,8])\n",
    "# astype() is also used to convert array of one data type to another\n",
    "new = x3.astype(float)\n",
    "\n",
    "print(x3)\n",
    "print(new)"
   ]
  }
 ],
 "metadata": {
  "kernelspec": {
   "display_name": "Python 3 (ipykernel)",
   "language": "python",
   "name": "python3"
  },
  "language_info": {
   "codemirror_mode": {
    "name": "ipython",
    "version": 3
   },
   "file_extension": ".py",
   "mimetype": "text/x-python",
   "name": "python",
   "nbconvert_exporter": "python",
   "pygments_lexer": "ipython3",
   "version": "3.13.4"
  }
 },
 "nbformat": 4,
 "nbformat_minor": 5
}
