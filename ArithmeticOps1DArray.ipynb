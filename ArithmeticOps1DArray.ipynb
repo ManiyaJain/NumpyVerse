{
 "cells": [
  {
   "cell_type": "markdown",
   "id": "d84733d8-5533-4c17-a0dc-15c38c75455d",
   "metadata": {},
   "source": [
    "## Arithmetic Operations"
   ]
  },
  {
   "cell_type": "code",
   "execution_count": 1,
   "id": "623f6ff3-f5ee-4f90-a0cf-a293aaf9bb8f",
   "metadata": {},
   "outputs": [],
   "source": [
    "import numpy as np "
   ]
  },
  {
   "cell_type": "code",
   "execution_count": 2,
   "id": "e37e07a0-3446-4425-9de7-9aa0b29cc0f3",
   "metadata": {},
   "outputs": [
    {
     "name": "stdout",
     "output_type": "stream",
     "text": [
      "[4 5 6 7]\n"
     ]
    }
   ],
   "source": [
    "var = np.array([1,2,3,4])\n",
    "add = var + 3\n",
    "print(add)"
   ]
  },
  {
   "cell_type": "code",
   "execution_count": 3,
   "id": "ee212e02-3b85-4b6e-a3e5-2f6a11be51e9",
   "metadata": {},
   "outputs": [
    {
     "name": "stdout",
     "output_type": "stream",
     "text": [
      "[ 6  8 10 12]\n"
     ]
    }
   ],
   "source": [
    "arr1 = np.array([1,2,3,4])\n",
    "arr2 = np.array([5,6,7,8])\n",
    "sum = arr1 + arr2\n",
    "print(sum)"
   ]
  },
  {
   "cell_type": "markdown",
   "id": "5fbc38ea-204c-4791-a616-a71b9cd28536",
   "metadata": {},
   "source": [
    "**add()**"
   ]
  },
  {
   "cell_type": "code",
   "execution_count": 4,
   "id": "3ab4f912-b441-4120-96fa-e156a862082e",
   "metadata": {},
   "outputs": [
    {
     "name": "stdout",
     "output_type": "stream",
     "text": [
      "[ 6  8 10 12]\n"
     ]
    }
   ],
   "source": [
    "arr1 = np.array([1,2,3,4])\n",
    "arr2 = np.array([5,6,7,8])\n",
    "sum = np.add(arr1, arr2)\n",
    "print(sum)"
   ]
  },
  {
   "cell_type": "code",
   "execution_count": 5,
   "id": "8e790f53-0e5e-4a33-a0e9-0f6c18d9fa72",
   "metadata": {},
   "outputs": [
    {
     "name": "stdout",
     "output_type": "stream",
     "text": [
      "[-2 -1  0  1]\n"
     ]
    }
   ],
   "source": [
    "a = np.array([1,2,3,4])\n",
    "diff = a - 3\n",
    "print(diff)"
   ]
  },
  {
   "cell_type": "code",
   "execution_count": 6,
   "id": "d1f207d3-8964-4537-8cd4-88428ead850c",
   "metadata": {},
   "outputs": [
    {
     "name": "stdout",
     "output_type": "stream",
     "text": [
      "[4 2 2 1]\n"
     ]
    }
   ],
   "source": [
    "b = np.array([5,6,7,8])\n",
    "c = np.array([1,4,5,7])\n",
    "sub = b - c\n",
    "print(sub)"
   ]
  },
  {
   "cell_type": "markdown",
   "id": "2b5dbbb9-b7cf-499f-b5c2-cde2613bf598",
   "metadata": {},
   "source": [
    "**subtract()**"
   ]
  },
  {
   "cell_type": "code",
   "execution_count": 7,
   "id": "e1dd4982-df78-4e84-a903-6703013fada2",
   "metadata": {},
   "outputs": [
    {
     "name": "stdout",
     "output_type": "stream",
     "text": [
      "[4 2 2 1]\n"
     ]
    }
   ],
   "source": [
    "b = np.array([5,6,7,8])\n",
    "c = np.array([1,4,5,7])\n",
    "sub = np.subtract(b,c)\n",
    "print(sub)"
   ]
  },
  {
   "cell_type": "code",
   "execution_count": 8,
   "id": "c3af165c-46a8-4a2d-ba11-e8c0a9d817a9",
   "metadata": {},
   "outputs": [
    {
     "name": "stdout",
     "output_type": "stream",
     "text": [
      "[1 2 0 1]\n"
     ]
    }
   ],
   "source": [
    "a1 = np.array([1,2,3,4])\n",
    "mod = a1 % 3\n",
    "print(mod)"
   ]
  },
  {
   "cell_type": "markdown",
   "id": "9d25920e-8410-48be-98da-e5fe9e18e1a4",
   "metadata": {},
   "source": [
    "**mod()**"
   ]
  },
  {
   "cell_type": "code",
   "execution_count": 9,
   "id": "8cb6542a-90f5-4dcb-9568-4d96797639c0",
   "metadata": {},
   "outputs": [
    {
     "name": "stdout",
     "output_type": "stream",
     "text": [
      "[1 2 0 1]\n"
     ]
    }
   ],
   "source": [
    "a1 = np.array([1,2,3,4])\n",
    "mod = np.mod(a1, 3)\n",
    "print(mod)"
   ]
  },
  {
   "cell_type": "code",
   "execution_count": 10,
   "id": "ed965156-fb71-4836-a5f1-db92d2e3f28d",
   "metadata": {},
   "outputs": [
    {
     "name": "stdout",
     "output_type": "stream",
     "text": [
      "[ 4 25 36 64]\n"
     ]
    }
   ],
   "source": [
    "x = np.array([2,5,6,8])\n",
    "y = x**2\n",
    "print(y)"
   ]
  },
  {
   "cell_type": "markdown",
   "id": "626621bf-2929-4260-abbd-ece199edbf44",
   "metadata": {},
   "source": [
    "**power()**"
   ]
  },
  {
   "cell_type": "code",
   "execution_count": 11,
   "id": "2377bee6-fe2c-40ef-a682-98b88a6d6b22",
   "metadata": {},
   "outputs": [
    {
     "name": "stdout",
     "output_type": "stream",
     "text": [
      "[ 4 25 36 64]\n"
     ]
    }
   ],
   "source": [
    "x = np.array([2,5,6,8])\n",
    "y = np.power(x, 2)\n",
    "print(y)"
   ]
  },
  {
   "cell_type": "markdown",
   "id": "971e2249-c077-46e9-a779-979047fd041e",
   "metadata": {},
   "source": [
    "**reciprocal()**"
   ]
  },
  {
   "cell_type": "code",
   "execution_count": 12,
   "id": "9d6c0e2c-0f38-4f33-9c12-b98082b8307a",
   "metadata": {},
   "outputs": [
    {
     "name": "stdout",
     "output_type": "stream",
     "text": [
      "[0.25       0.16666667 0.125      0.11111111]\n"
     ]
    }
   ],
   "source": [
    "m = np.array([4.0,6.0,8.0,9.0])\n",
    "r = np.reciprocal(m)\n",
    "print(r)"
   ]
  },
  {
   "cell_type": "markdown",
   "id": "d2c9c341-e741-4016-85c0-ba15d0d70d3d",
   "metadata": {},
   "source": [
    "**multiply()**"
   ]
  },
  {
   "cell_type": "code",
   "execution_count": 13,
   "id": "a406b307-74ed-4b82-a16b-9d03cc838ccd",
   "metadata": {},
   "outputs": [
    {
     "name": "stdout",
     "output_type": "stream",
     "text": [
      "[ 6 15 24 40]\n"
     ]
    }
   ],
   "source": [
    "m1 = np.array([2,3,4,5])\n",
    "m2 = np.array([3,5,6,8])\n",
    "multi = np.multiply(m1, m2)\n",
    "print(multi)"
   ]
  },
  {
   "cell_type": "markdown",
   "id": "ec8fd561-337e-44ce-a574-d6a70b7c64cd",
   "metadata": {},
   "source": [
    "**divide()**"
   ]
  },
  {
   "cell_type": "code",
   "execution_count": 14,
   "id": "52a3ecc1-5ebd-4365-8128-89d390097e4f",
   "metadata": {},
   "outputs": [
    {
     "name": "stdout",
     "output_type": "stream",
     "text": [
      "[2.         4.75       4.         4.28571429]\n"
     ]
    }
   ],
   "source": [
    "d1 = np.array([14,19,24,30])\n",
    "d2 = np.array([7, 4, 6, 7])\n",
    "div = np.divide(d1, d2)\n",
    "print(div)"
   ]
  }
 ],
 "metadata": {
  "kernelspec": {
   "display_name": "Python 3 (ipykernel)",
   "language": "python",
   "name": "python3"
  },
  "language_info": {
   "codemirror_mode": {
    "name": "ipython",
    "version": 3
   },
   "file_extension": ".py",
   "mimetype": "text/x-python",
   "name": "python",
   "nbconvert_exporter": "python",
   "pygments_lexer": "ipython3",
   "version": "3.13.4"
  }
 },
 "nbformat": 4,
 "nbformat_minor": 5
}
