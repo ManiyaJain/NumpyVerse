{
 "cells": [
  {
   "cell_type": "markdown",
   "id": "16424193-3c97-49bc-9bed-c8018b5c7679",
   "metadata": {},
   "source": [
    "**Shape**"
   ]
  },
  {
   "cell_type": "code",
   "execution_count": 1,
   "id": "ffe7e287-9848-4494-8d93-256879c0c04f",
   "metadata": {},
   "outputs": [],
   "source": [
    "import numpy as np"
   ]
  },
  {
   "cell_type": "code",
   "execution_count": 6,
   "id": "3d711d38-d20b-457d-9f06-7b8b4809c328",
   "metadata": {},
   "outputs": [
    {
     "name": "stdout",
     "output_type": "stream",
     "text": [
      "Shape : (2, 4)\n"
     ]
    }
   ],
   "source": [
    "arr = np.array([[1,2,3,7], [4,7,8,0]])\n",
    "print(\"Shape :\",arr.shape)"
   ]
  },
  {
   "cell_type": "code",
   "execution_count": 7,
   "id": "b10c6694-ef38-4c04-948c-1f1c22a2d0d7",
   "metadata": {},
   "outputs": [
    {
     "name": "stdout",
     "output_type": "stream",
     "text": [
      "[[[[1 2 3 4]]]]\n",
      "Dimensions : 4\n",
      "\n",
      "Shape : (1, 1, 1, 4)\n"
     ]
    }
   ],
   "source": [
    "arr1 = np.array([1,2,3,4], ndmin = 4)\n",
    "print(arr1)\n",
    "print(\"Dimensions :\",arr1.ndim)\n",
    "\n",
    "print()\n",
    "print(\"Shape :\",arr1.shape)"
   ]
  },
  {
   "cell_type": "markdown",
   "id": "95290c4b-6851-4a0d-94c6-88089a2a2541",
   "metadata": {},
   "source": [
    "**Reshape**"
   ]
  },
  {
   "cell_type": "code",
   "execution_count": 10,
   "id": "1bfd6153-19bb-4489-9cf2-276b75585e33",
   "metadata": {},
   "outputs": [
    {
     "name": "stdout",
     "output_type": "stream",
     "text": [
      "[1 2 3 4 5 6]\n",
      "Dimensions before reshaping : 1\n",
      "\n",
      "[[1 2]\n",
      " [3 4]\n",
      " [5 6]]\n",
      "Dimensions after reshaping : 2\n"
     ]
    }
   ],
   "source": [
    "arr2 = np.array([1,2,3,4,5,6])\n",
    "print(arr2)\n",
    "print(\"Dimensions before reshaping :\",arr2.ndim)\n",
    "print()\n",
    "\n",
    "s = arr2.reshape(3,2)\n",
    "print(s)\n",
    "print(\"Dimensions after reshaping :\", s.ndim)"
   ]
  },
  {
   "cell_type": "code",
   "execution_count": 12,
   "id": "a8891951-9107-4106-a5f9-96a70fc875f4",
   "metadata": {},
   "outputs": [],
   "source": [
    "# arr2 = np.array([1,2,3,4,5,6])\n",
    "# s = arr2.reshape(3,3)\n",
    "# print(s)\n",
    "# It will throw an error because we are reshaping into 3*3 = 9, but there are 6 elements in original array "
   ]
  },
  {
   "cell_type": "code",
   "execution_count": 13,
   "id": "05a81476-d512-4c3a-8c82-1d745ff1ef92",
   "metadata": {},
   "outputs": [
    {
     "name": "stdout",
     "output_type": "stream",
     "text": [
      "[1 4 6 3 0 9 2 1 8 6 3 2]\n",
      "Dimensions before reshaping : 1\n",
      "\n",
      "[[[1 4]\n",
      "  [6 3]\n",
      "  [0 9]]\n",
      "\n",
      " [[2 1]\n",
      "  [8 6]\n",
      "  [3 2]]]\n",
      "Dimensions after reshaping : 3\n"
     ]
    }
   ],
   "source": [
    "arr3 = np.array([1,4,6,3,0,9,2,1,8,6,3,2])\n",
    "print(arr3)\n",
    "print(\"Dimensions before reshaping :\",arr3.ndim)\n",
    "print()\n",
    "\n",
    "s = arr3.reshape(2,3,2)\n",
    "print(s)\n",
    "print(\"Dimensions after reshaping :\", s.ndim)"
   ]
  },
  {
   "cell_type": "code",
   "execution_count": 14,
   "id": "afd4468d-c59a-4684-8cb1-fb8d1bf5de63",
   "metadata": {},
   "outputs": [
    {
     "name": "stdout",
     "output_type": "stream",
     "text": [
      "[1 4 6 3 0 9 2 1 8 6 3 2]\n",
      "Dimensions before reshaping : 1\n",
      "\n",
      "[[[1 4]\n",
      "  [6 3]\n",
      "  [0 9]]\n",
      "\n",
      " [[2 1]\n",
      "  [8 6]\n",
      "  [3 2]]]\n",
      "Dimensions after reshaping : 3\n",
      "\n",
      "[1 4 6 3 0 9 2 1 8 6 3 2]\n",
      "Dimensions after again reshaping to the original array : 1\n"
     ]
    }
   ],
   "source": [
    "arr3 = np.array([1,4,6,3,0,9,2,1,8,6,3,2])\n",
    "print(arr3)\n",
    "print(\"Dimensions before reshaping :\",arr3.ndim)\n",
    "print()\n",
    "\n",
    "s = arr3.reshape(2,3,2)\n",
    "print(s)\n",
    "print(\"Dimensions after reshaping :\", s.ndim)\n",
    "print()\n",
    "\n",
    "#reshape(-1) - reshapes to the original array\n",
    "one = arr3.reshape(-1)\n",
    "print(one)\n",
    "print(\"Dimensions after again reshaping to the original array :\",one.ndim)"
   ]
  },
  {
   "cell_type": "code",
   "execution_count": null,
   "id": "e8ebc6b3-0cd9-4c2f-9877-d20a682ecffd",
   "metadata": {},
   "outputs": [],
   "source": []
  }
 ],
 "metadata": {
  "kernelspec": {
   "display_name": "Python 3 (ipykernel)",
   "language": "python",
   "name": "python3"
  },
  "language_info": {
   "codemirror_mode": {
    "name": "ipython",
    "version": 3
   },
   "file_extension": ".py",
   "mimetype": "text/x-python",
   "name": "python",
   "nbconvert_exporter": "python",
   "pygments_lexer": "ipython3",
   "version": "3.13.4"
  }
 },
 "nbformat": 4,
 "nbformat_minor": 5
}
